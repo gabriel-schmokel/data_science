{
  "nbformat": 4,
  "nbformat_minor": 0,
  "metadata": {
    "colab": {
      "name": "dados_para_prever_doenças_cardiacas.ipynb",
      "provenance": [],
      "toc_visible": true
    },
    "kernelspec": {
      "name": "python3",
      "display_name": "Python 3"
    },
    "language_info": {
      "name": "python"
    }
  },
  "cells": [
    {
      "cell_type": "markdown",
      "source": [
        "# Exploração e Tratamento dos Fatores Clínicos e Laboratoriais para Prever Doenças Cardíacas\n",
        "\n",
        "Este projeto tem como objetivo fazer a exploração e o tratamento do *data set* que levanta os fatores clínicos e laboratoriais para prever a tendência das doenças cardíacas nos pacientes. O arquivo final tratado será exportado, permitindo de imediato futuros trabalhos de análise estatística ou elaborações de modelos de machine learning. \n",
        "\n",
        "O *data set* foi obtido do kaggle e seu download pede ser feito no [site](https://www.kaggle.com/datasets/fedesoriano/heart-failure-prediction).\n",
        "\n",
        "A exploração e o tratamento dos dados deve ser realizado para todos os pacientes, deve-se resolver os problemas de duplicidade, inconsistência, completude, conformidade e integridade.\n",
        "\n",
        "\n",
        "\n"
      ],
      "metadata": {
        "id": "tjtO7hPc1vSf"
      }
    },
    {
      "cell_type": "markdown",
      "source": [
        "## Dicionário das Variáveis\n",
        "\n",
        "Variável                | Significado                                 | Valores Permitidos\n",
        "---------               | ------                                      | -----\n",
        "Age                     |  Idade do paciente                          | 20-100\n",
        "Sex                     |  Sexo do paciente                           | F, M\n",
        "Chest Pain Type         |  Tipo de Dor no Peito                       | ASY, ATA, NAP, TA\n",
        "Resting BP              |  Pressão Sanguínea em Repouso em mmGh       | 75-250\n",
        "Cholesterol             |  Colesterol séricodo paciente               | 60-700\n",
        "Fasting BS              |  Açucar no sangue em jejum                  | 0, 1 \n",
        "Resting ECG             |  Eletrocardiograma em repouso               | LVH, Normal, ST \n",
        "Max HR                  |  Frequência cardíaca máxima                 | 40-300\n",
        "Exercise Angina         |  Angina induzida por exercício              | N, Y\n",
        "Old Peak                |  Depressão de ST por exercício ao repouso   | (-5) - (7)\n",
        "ST_Slope                |  Inclinação do segmento ST no ECG           | Down, Flat, Up\n",
        "Heart Disease           |  Doença cardíaca (NÃO/SIM)                  | 0, 1\n"
      ],
      "metadata": {
        "id": "BcTp8oncpCbh"
      }
    },
    {
      "cell_type": "markdown",
      "source": [
        "## Carregando as bibliotecas"
      ],
      "metadata": {
        "id": "0PQ9jgFgo7Jx"
      }
    },
    {
      "cell_type": "code",
      "execution_count": 2,
      "metadata": {
        "id": "EFReOaMTqpXt"
      },
      "outputs": [],
      "source": [
        "import numpy as np  # importando a biblioteca numpy para a manipulação e operação de arrays.\n",
        "import pandas as pd  # importando a biblioteca pandas para a manipulação de data frames.\n",
        "import matplotlib.pyplot as plt # importando a biblioteca para plotar gráficos.\n",
        "import seaborn as sns # importando a biblioteca para plotar gráficos.\n",
        "import statistics as sts # importando a biblioteca para fazer as operações estatísticas."
      ]
    },
    {
      "cell_type": "markdown",
      "source": [
        "## Carregando o Data Set"
      ],
      "metadata": {
        "id": "_zpuiat3Er-x"
      }
    },
    {
      "cell_type": "code",
      "source": [
        "df_doencas_cardiacas = pd.read_csv('/content/drive/MyDrive/trabalho/TD_doença_cardiaca.csv', \n",
        "sep=',', encoding='iso-8859-1')\n",
        "\n",
        "# COMENTÁRIOS SOBRE O CÓDIGO\n",
        "\n",
        "# pd.read_csv(...) é um método de leitura de aruivos csv da biblioteca pandas.\n",
        "# o primeiro argumento direciona o caminho do diretório que contém o arquivo de leitura, o segundo argumento sep = '...' \n",
        "# deve informar como os dados estão separados no arquivo e o último argume não os métodos de leitura possíveis.\n",
        "# métodos de leituras possíve:  "
      ],
      "metadata": {
        "id": "dTaUSOQ1Ewy4"
      },
      "execution_count": 4,
      "outputs": []
    },
    {
      "cell_type": "markdown",
      "source": [
        "## Explorando os Dados\n",
        "\n"
      ],
      "metadata": {
        "id": "-bR3v6G-_4Aw"
      }
    },
    {
      "cell_type": "markdown",
      "source": [
        "### 1) Primeira Visualização dos Dados \n",
        "\n",
        "Através da saída dos códigos abaixo, foi observado que o data frame está de acordo com o número de variáveis que foi apresentado no dicionário, um total de 12, também foi mostrado que o número de linhas que esse data frame possue corresponde a 918."
      ],
      "metadata": {
        "id": "kSxyfz_BNa1f"
      }
    },
    {
      "cell_type": "code",
      "source": [
        "df_doencas_cardiacas.head()  # Verificando o cabeçalho do arquivo."
      ],
      "metadata": {
        "colab": {
          "base_uri": "https://localhost:8080/",
          "height": 270
        },
        "id": "_xviaHEqANtp",
        "outputId": "13b5753d-3c40-4f23-8a2d-2f28c5f82a21"
      },
      "execution_count": 5,
      "outputs": [
        {
          "output_type": "execute_result",
          "data": {
            "text/plain": [
              "   Age Sex ChestPainType  RestingBP  Cholesterol  FastingBS RestingECG  MaxHR  \\\n",
              "0   40   M           ATA        140          289          0     Normal    172   \n",
              "1   49   F           NAP        160          180          0     Normal    156   \n",
              "2   37   M           ATA        130          283          0         ST     98   \n",
              "3   48   F           ASY        138          214          0     Normal    108   \n",
              "4   54   M           NAP        150          195          0     Normal    122   \n",
              "\n",
              "  ExerciseAngina  Oldpeak ST_Slope  HeartDisease  \n",
              "0              N      0.0       Up             0  \n",
              "1              N      1.0     Flat             1  \n",
              "2              N      0.0       Up             0  \n",
              "3              Y      1.5     Flat             1  \n",
              "4              N      0.0       Up             0  "
            ],
            "text/html": [
              "\n",
              "  <div id=\"df-35fdb7d4-d5df-4de6-bd88-d79cf23fd9ee\">\n",
              "    <div class=\"colab-df-container\">\n",
              "      <div>\n",
              "<style scoped>\n",
              "    .dataframe tbody tr th:only-of-type {\n",
              "        vertical-align: middle;\n",
              "    }\n",
              "\n",
              "    .dataframe tbody tr th {\n",
              "        vertical-align: top;\n",
              "    }\n",
              "\n",
              "    .dataframe thead th {\n",
              "        text-align: right;\n",
              "    }\n",
              "</style>\n",
              "<table border=\"1\" class=\"dataframe\">\n",
              "  <thead>\n",
              "    <tr style=\"text-align: right;\">\n",
              "      <th></th>\n",
              "      <th>Age</th>\n",
              "      <th>Sex</th>\n",
              "      <th>ChestPainType</th>\n",
              "      <th>RestingBP</th>\n",
              "      <th>Cholesterol</th>\n",
              "      <th>FastingBS</th>\n",
              "      <th>RestingECG</th>\n",
              "      <th>MaxHR</th>\n",
              "      <th>ExerciseAngina</th>\n",
              "      <th>Oldpeak</th>\n",
              "      <th>ST_Slope</th>\n",
              "      <th>HeartDisease</th>\n",
              "    </tr>\n",
              "  </thead>\n",
              "  <tbody>\n",
              "    <tr>\n",
              "      <th>0</th>\n",
              "      <td>40</td>\n",
              "      <td>M</td>\n",
              "      <td>ATA</td>\n",
              "      <td>140</td>\n",
              "      <td>289</td>\n",
              "      <td>0</td>\n",
              "      <td>Normal</td>\n",
              "      <td>172</td>\n",
              "      <td>N</td>\n",
              "      <td>0.0</td>\n",
              "      <td>Up</td>\n",
              "      <td>0</td>\n",
              "    </tr>\n",
              "    <tr>\n",
              "      <th>1</th>\n",
              "      <td>49</td>\n",
              "      <td>F</td>\n",
              "      <td>NAP</td>\n",
              "      <td>160</td>\n",
              "      <td>180</td>\n",
              "      <td>0</td>\n",
              "      <td>Normal</td>\n",
              "      <td>156</td>\n",
              "      <td>N</td>\n",
              "      <td>1.0</td>\n",
              "      <td>Flat</td>\n",
              "      <td>1</td>\n",
              "    </tr>\n",
              "    <tr>\n",
              "      <th>2</th>\n",
              "      <td>37</td>\n",
              "      <td>M</td>\n",
              "      <td>ATA</td>\n",
              "      <td>130</td>\n",
              "      <td>283</td>\n",
              "      <td>0</td>\n",
              "      <td>ST</td>\n",
              "      <td>98</td>\n",
              "      <td>N</td>\n",
              "      <td>0.0</td>\n",
              "      <td>Up</td>\n",
              "      <td>0</td>\n",
              "    </tr>\n",
              "    <tr>\n",
              "      <th>3</th>\n",
              "      <td>48</td>\n",
              "      <td>F</td>\n",
              "      <td>ASY</td>\n",
              "      <td>138</td>\n",
              "      <td>214</td>\n",
              "      <td>0</td>\n",
              "      <td>Normal</td>\n",
              "      <td>108</td>\n",
              "      <td>Y</td>\n",
              "      <td>1.5</td>\n",
              "      <td>Flat</td>\n",
              "      <td>1</td>\n",
              "    </tr>\n",
              "    <tr>\n",
              "      <th>4</th>\n",
              "      <td>54</td>\n",
              "      <td>M</td>\n",
              "      <td>NAP</td>\n",
              "      <td>150</td>\n",
              "      <td>195</td>\n",
              "      <td>0</td>\n",
              "      <td>Normal</td>\n",
              "      <td>122</td>\n",
              "      <td>N</td>\n",
              "      <td>0.0</td>\n",
              "      <td>Up</td>\n",
              "      <td>0</td>\n",
              "    </tr>\n",
              "  </tbody>\n",
              "</table>\n",
              "</div>\n",
              "      <button class=\"colab-df-convert\" onclick=\"convertToInteractive('df-35fdb7d4-d5df-4de6-bd88-d79cf23fd9ee')\"\n",
              "              title=\"Convert this dataframe to an interactive table.\"\n",
              "              style=\"display:none;\">\n",
              "        \n",
              "  <svg xmlns=\"http://www.w3.org/2000/svg\" height=\"24px\"viewBox=\"0 0 24 24\"\n",
              "       width=\"24px\">\n",
              "    <path d=\"M0 0h24v24H0V0z\" fill=\"none\"/>\n",
              "    <path d=\"M18.56 5.44l.94 2.06.94-2.06 2.06-.94-2.06-.94-.94-2.06-.94 2.06-2.06.94zm-11 1L8.5 8.5l.94-2.06 2.06-.94-2.06-.94L8.5 2.5l-.94 2.06-2.06.94zm10 10l.94 2.06.94-2.06 2.06-.94-2.06-.94-.94-2.06-.94 2.06-2.06.94z\"/><path d=\"M17.41 7.96l-1.37-1.37c-.4-.4-.92-.59-1.43-.59-.52 0-1.04.2-1.43.59L10.3 9.45l-7.72 7.72c-.78.78-.78 2.05 0 2.83L4 21.41c.39.39.9.59 1.41.59.51 0 1.02-.2 1.41-.59l7.78-7.78 2.81-2.81c.8-.78.8-2.07 0-2.86zM5.41 20L4 18.59l7.72-7.72 1.47 1.35L5.41 20z\"/>\n",
              "  </svg>\n",
              "      </button>\n",
              "      \n",
              "  <style>\n",
              "    .colab-df-container {\n",
              "      display:flex;\n",
              "      flex-wrap:wrap;\n",
              "      gap: 12px;\n",
              "    }\n",
              "\n",
              "    .colab-df-convert {\n",
              "      background-color: #E8F0FE;\n",
              "      border: none;\n",
              "      border-radius: 50%;\n",
              "      cursor: pointer;\n",
              "      display: none;\n",
              "      fill: #1967D2;\n",
              "      height: 32px;\n",
              "      padding: 0 0 0 0;\n",
              "      width: 32px;\n",
              "    }\n",
              "\n",
              "    .colab-df-convert:hover {\n",
              "      background-color: #E2EBFA;\n",
              "      box-shadow: 0px 1px 2px rgba(60, 64, 67, 0.3), 0px 1px 3px 1px rgba(60, 64, 67, 0.15);\n",
              "      fill: #174EA6;\n",
              "    }\n",
              "\n",
              "    [theme=dark] .colab-df-convert {\n",
              "      background-color: #3B4455;\n",
              "      fill: #D2E3FC;\n",
              "    }\n",
              "\n",
              "    [theme=dark] .colab-df-convert:hover {\n",
              "      background-color: #434B5C;\n",
              "      box-shadow: 0px 1px 3px 1px rgba(0, 0, 0, 0.15);\n",
              "      filter: drop-shadow(0px 1px 2px rgba(0, 0, 0, 0.3));\n",
              "      fill: #FFFFFF;\n",
              "    }\n",
              "  </style>\n",
              "\n",
              "      <script>\n",
              "        const buttonEl =\n",
              "          document.querySelector('#df-35fdb7d4-d5df-4de6-bd88-d79cf23fd9ee button.colab-df-convert');\n",
              "        buttonEl.style.display =\n",
              "          google.colab.kernel.accessAllowed ? 'block' : 'none';\n",
              "\n",
              "        async function convertToInteractive(key) {\n",
              "          const element = document.querySelector('#df-35fdb7d4-d5df-4de6-bd88-d79cf23fd9ee');\n",
              "          const dataTable =\n",
              "            await google.colab.kernel.invokeFunction('convertToInteractive',\n",
              "                                                     [key], {});\n",
              "          if (!dataTable) return;\n",
              "\n",
              "          const docLinkHtml = 'Like what you see? Visit the ' +\n",
              "            '<a target=\"_blank\" href=https://colab.research.google.com/notebooks/data_table.ipynb>data table notebook</a>'\n",
              "            + ' to learn more about interactive tables.';\n",
              "          element.innerHTML = '';\n",
              "          dataTable['output_type'] = 'display_data';\n",
              "          await google.colab.output.renderOutput(dataTable, element);\n",
              "          const docLink = document.createElement('div');\n",
              "          docLink.innerHTML = docLinkHtml;\n",
              "          element.appendChild(docLink);\n",
              "        }\n",
              "      </script>\n",
              "    </div>\n",
              "  </div>\n",
              "  "
            ]
          },
          "metadata": {},
          "execution_count": 5
        }
      ]
    },
    {
      "cell_type": "code",
      "source": [
        "df_doencas_cardiacas.tail()  # Verificando o cabeçalho do arquivo."
      ],
      "metadata": {
        "colab": {
          "base_uri": "https://localhost:8080/",
          "height": 270
        },
        "id": "p0m0yp0KHJN4",
        "outputId": "2aaf6ee1-55a4-4948-e0cc-3fa5b8721434"
      },
      "execution_count": 6,
      "outputs": [
        {
          "output_type": "execute_result",
          "data": {
            "text/plain": [
              "     Age Sex ChestPainType  RestingBP  Cholesterol  FastingBS RestingECG  \\\n",
              "913   45   M            TA        110          264          0     Normal   \n",
              "914   68   M           ASY        144          193          1     Normal   \n",
              "915   57   M           ASY        130          131          0     Normal   \n",
              "916   57   F           ATA        130          236          0        LVH   \n",
              "917   38   M           NAP        138          175          0     Normal   \n",
              "\n",
              "     MaxHR ExerciseAngina  Oldpeak ST_Slope  HeartDisease  \n",
              "913    132              N      1.2     Flat             1  \n",
              "914    141              N      3.4     Flat             1  \n",
              "915    115              Y      1.2     Flat             1  \n",
              "916    174              N      0.0     Flat             1  \n",
              "917    173              N      0.0       Up             0  "
            ],
            "text/html": [
              "\n",
              "  <div id=\"df-08e432d3-9d9a-4656-adc2-568b719bf3f4\">\n",
              "    <div class=\"colab-df-container\">\n",
              "      <div>\n",
              "<style scoped>\n",
              "    .dataframe tbody tr th:only-of-type {\n",
              "        vertical-align: middle;\n",
              "    }\n",
              "\n",
              "    .dataframe tbody tr th {\n",
              "        vertical-align: top;\n",
              "    }\n",
              "\n",
              "    .dataframe thead th {\n",
              "        text-align: right;\n",
              "    }\n",
              "</style>\n",
              "<table border=\"1\" class=\"dataframe\">\n",
              "  <thead>\n",
              "    <tr style=\"text-align: right;\">\n",
              "      <th></th>\n",
              "      <th>Age</th>\n",
              "      <th>Sex</th>\n",
              "      <th>ChestPainType</th>\n",
              "      <th>RestingBP</th>\n",
              "      <th>Cholesterol</th>\n",
              "      <th>FastingBS</th>\n",
              "      <th>RestingECG</th>\n",
              "      <th>MaxHR</th>\n",
              "      <th>ExerciseAngina</th>\n",
              "      <th>Oldpeak</th>\n",
              "      <th>ST_Slope</th>\n",
              "      <th>HeartDisease</th>\n",
              "    </tr>\n",
              "  </thead>\n",
              "  <tbody>\n",
              "    <tr>\n",
              "      <th>913</th>\n",
              "      <td>45</td>\n",
              "      <td>M</td>\n",
              "      <td>TA</td>\n",
              "      <td>110</td>\n",
              "      <td>264</td>\n",
              "      <td>0</td>\n",
              "      <td>Normal</td>\n",
              "      <td>132</td>\n",
              "      <td>N</td>\n",
              "      <td>1.2</td>\n",
              "      <td>Flat</td>\n",
              "      <td>1</td>\n",
              "    </tr>\n",
              "    <tr>\n",
              "      <th>914</th>\n",
              "      <td>68</td>\n",
              "      <td>M</td>\n",
              "      <td>ASY</td>\n",
              "      <td>144</td>\n",
              "      <td>193</td>\n",
              "      <td>1</td>\n",
              "      <td>Normal</td>\n",
              "      <td>141</td>\n",
              "      <td>N</td>\n",
              "      <td>3.4</td>\n",
              "      <td>Flat</td>\n",
              "      <td>1</td>\n",
              "    </tr>\n",
              "    <tr>\n",
              "      <th>915</th>\n",
              "      <td>57</td>\n",
              "      <td>M</td>\n",
              "      <td>ASY</td>\n",
              "      <td>130</td>\n",
              "      <td>131</td>\n",
              "      <td>0</td>\n",
              "      <td>Normal</td>\n",
              "      <td>115</td>\n",
              "      <td>Y</td>\n",
              "      <td>1.2</td>\n",
              "      <td>Flat</td>\n",
              "      <td>1</td>\n",
              "    </tr>\n",
              "    <tr>\n",
              "      <th>916</th>\n",
              "      <td>57</td>\n",
              "      <td>F</td>\n",
              "      <td>ATA</td>\n",
              "      <td>130</td>\n",
              "      <td>236</td>\n",
              "      <td>0</td>\n",
              "      <td>LVH</td>\n",
              "      <td>174</td>\n",
              "      <td>N</td>\n",
              "      <td>0.0</td>\n",
              "      <td>Flat</td>\n",
              "      <td>1</td>\n",
              "    </tr>\n",
              "    <tr>\n",
              "      <th>917</th>\n",
              "      <td>38</td>\n",
              "      <td>M</td>\n",
              "      <td>NAP</td>\n",
              "      <td>138</td>\n",
              "      <td>175</td>\n",
              "      <td>0</td>\n",
              "      <td>Normal</td>\n",
              "      <td>173</td>\n",
              "      <td>N</td>\n",
              "      <td>0.0</td>\n",
              "      <td>Up</td>\n",
              "      <td>0</td>\n",
              "    </tr>\n",
              "  </tbody>\n",
              "</table>\n",
              "</div>\n",
              "      <button class=\"colab-df-convert\" onclick=\"convertToInteractive('df-08e432d3-9d9a-4656-adc2-568b719bf3f4')\"\n",
              "              title=\"Convert this dataframe to an interactive table.\"\n",
              "              style=\"display:none;\">\n",
              "        \n",
              "  <svg xmlns=\"http://www.w3.org/2000/svg\" height=\"24px\"viewBox=\"0 0 24 24\"\n",
              "       width=\"24px\">\n",
              "    <path d=\"M0 0h24v24H0V0z\" fill=\"none\"/>\n",
              "    <path d=\"M18.56 5.44l.94 2.06.94-2.06 2.06-.94-2.06-.94-.94-2.06-.94 2.06-2.06.94zm-11 1L8.5 8.5l.94-2.06 2.06-.94-2.06-.94L8.5 2.5l-.94 2.06-2.06.94zm10 10l.94 2.06.94-2.06 2.06-.94-2.06-.94-.94-2.06-.94 2.06-2.06.94z\"/><path d=\"M17.41 7.96l-1.37-1.37c-.4-.4-.92-.59-1.43-.59-.52 0-1.04.2-1.43.59L10.3 9.45l-7.72 7.72c-.78.78-.78 2.05 0 2.83L4 21.41c.39.39.9.59 1.41.59.51 0 1.02-.2 1.41-.59l7.78-7.78 2.81-2.81c.8-.78.8-2.07 0-2.86zM5.41 20L4 18.59l7.72-7.72 1.47 1.35L5.41 20z\"/>\n",
              "  </svg>\n",
              "      </button>\n",
              "      \n",
              "  <style>\n",
              "    .colab-df-container {\n",
              "      display:flex;\n",
              "      flex-wrap:wrap;\n",
              "      gap: 12px;\n",
              "    }\n",
              "\n",
              "    .colab-df-convert {\n",
              "      background-color: #E8F0FE;\n",
              "      border: none;\n",
              "      border-radius: 50%;\n",
              "      cursor: pointer;\n",
              "      display: none;\n",
              "      fill: #1967D2;\n",
              "      height: 32px;\n",
              "      padding: 0 0 0 0;\n",
              "      width: 32px;\n",
              "    }\n",
              "\n",
              "    .colab-df-convert:hover {\n",
              "      background-color: #E2EBFA;\n",
              "      box-shadow: 0px 1px 2px rgba(60, 64, 67, 0.3), 0px 1px 3px 1px rgba(60, 64, 67, 0.15);\n",
              "      fill: #174EA6;\n",
              "    }\n",
              "\n",
              "    [theme=dark] .colab-df-convert {\n",
              "      background-color: #3B4455;\n",
              "      fill: #D2E3FC;\n",
              "    }\n",
              "\n",
              "    [theme=dark] .colab-df-convert:hover {\n",
              "      background-color: #434B5C;\n",
              "      box-shadow: 0px 1px 3px 1px rgba(0, 0, 0, 0.15);\n",
              "      filter: drop-shadow(0px 1px 2px rgba(0, 0, 0, 0.3));\n",
              "      fill: #FFFFFF;\n",
              "    }\n",
              "  </style>\n",
              "\n",
              "      <script>\n",
              "        const buttonEl =\n",
              "          document.querySelector('#df-08e432d3-9d9a-4656-adc2-568b719bf3f4 button.colab-df-convert');\n",
              "        buttonEl.style.display =\n",
              "          google.colab.kernel.accessAllowed ? 'block' : 'none';\n",
              "\n",
              "        async function convertToInteractive(key) {\n",
              "          const element = document.querySelector('#df-08e432d3-9d9a-4656-adc2-568b719bf3f4');\n",
              "          const dataTable =\n",
              "            await google.colab.kernel.invokeFunction('convertToInteractive',\n",
              "                                                     [key], {});\n",
              "          if (!dataTable) return;\n",
              "\n",
              "          const docLinkHtml = 'Like what you see? Visit the ' +\n",
              "            '<a target=\"_blank\" href=https://colab.research.google.com/notebooks/data_table.ipynb>data table notebook</a>'\n",
              "            + ' to learn more about interactive tables.';\n",
              "          element.innerHTML = '';\n",
              "          dataTable['output_type'] = 'display_data';\n",
              "          await google.colab.output.renderOutput(dataTable, element);\n",
              "          const docLink = document.createElement('div');\n",
              "          docLink.innerHTML = docLinkHtml;\n",
              "          element.appendChild(docLink);\n",
              "        }\n",
              "      </script>\n",
              "    </div>\n",
              "  </div>\n",
              "  "
            ]
          },
          "metadata": {},
          "execution_count": 6
        }
      ]
    },
    {
      "cell_type": "code",
      "source": [
        "df_doencas_cardiacas.shape   # Visualizando o formato do arquivo. "
      ],
      "metadata": {
        "colab": {
          "base_uri": "https://localhost:8080/"
        },
        "id": "OSFSzLVRFnLI",
        "outputId": "8b5e75eb-57c6-4415-8e60-6ffa067b0e77"
      },
      "execution_count": 7,
      "outputs": [
        {
          "output_type": "execute_result",
          "data": {
            "text/plain": [
              "(918, 12)"
            ]
          },
          "metadata": {},
          "execution_count": 7
        }
      ]
    },
    {
      "cell_type": "code",
      "source": [
        "# COMENTÁRIOS SOBRE O CÓDIGO \n",
        "\n",
        "# O método head(...) permite a visualização das 5 primeiras linhas do data frame passado no primeiro argumento. Se for\n",
        "# passado um segundo argumento, pode-se especificar o número de linhas a ser exibido nesse método.\n",
        "# O método tail(...) permite a visualização das 5 linhas finais do data frame passado no primeiro argumento. Se for\n",
        "# passado um segundo argumento, pode-se especificar o número de linhas a ser exibido nesse método.\n",
        "# O atributo .shape retornar o número de linhas e colunas que o data frame contém."
      ],
      "metadata": {
        "id": "GqwO7CB_FwaK"
      },
      "execution_count": null,
      "outputs": []
    },
    {
      "cell_type": "markdown",
      "source": [
        "### 2) Modificando o Nome das Variáveis\n",
        "\n",
        "O nome de algumas variáveis presente no dicionário do arquivo de dados foi traduzido para o português, além disso foi alterado o nome de algumas outras, com objetivo de deixar mais claro a interpretação e o significado delas.\n"
      ],
      "metadata": {
        "id": "iA5YE-txJhtT"
      }
    },
    {
      "cell_type": "code",
      "source": [
        "df_doencas_cardiacas.columns = ['idade', 'sexo', 'tipo_dor_peito', 'pressao', 'colesterol', 'acucar_no_sangue', \n",
        "  'ecg', 'max_freq_cardiaca', 'angina_pós_exercicio', 'depressao_st', 'inclinacao_st', 'doenca_cardiaca']  # modificando\n",
        "# o nome das variáveis com o atributo .columns \n",
        "df_doencas_cardiacas  # Exibindo a modificação do nome das variáveis. "
      ],
      "metadata": {
        "colab": {
          "base_uri": "https://localhost:8080/",
          "height": 488
        },
        "id": "aoHXdx9zKx84",
        "outputId": "2c3ee663-2366-40c6-ea07-052aadc50c34"
      },
      "execution_count": 8,
      "outputs": [
        {
          "output_type": "execute_result",
          "data": {
            "text/plain": [
              "     idade sexo tipo_dor_peito  pressao  colesterol  acucar_no_sangue     ecg  \\\n",
              "0       40    M            ATA      140         289                 0  Normal   \n",
              "1       49    F            NAP      160         180                 0  Normal   \n",
              "2       37    M            ATA      130         283                 0      ST   \n",
              "3       48    F            ASY      138         214                 0  Normal   \n",
              "4       54    M            NAP      150         195                 0  Normal   \n",
              "..     ...  ...            ...      ...         ...               ...     ...   \n",
              "913     45    M             TA      110         264                 0  Normal   \n",
              "914     68    M            ASY      144         193                 1  Normal   \n",
              "915     57    M            ASY      130         131                 0  Normal   \n",
              "916     57    F            ATA      130         236                 0     LVH   \n",
              "917     38    M            NAP      138         175                 0  Normal   \n",
              "\n",
              "     max_freq_cardiaca angina_pós_exercicio  depressao_st inclinacao_st  \\\n",
              "0                  172                    N           0.0            Up   \n",
              "1                  156                    N           1.0          Flat   \n",
              "2                   98                    N           0.0            Up   \n",
              "3                  108                    Y           1.5          Flat   \n",
              "4                  122                    N           0.0            Up   \n",
              "..                 ...                  ...           ...           ...   \n",
              "913                132                    N           1.2          Flat   \n",
              "914                141                    N           3.4          Flat   \n",
              "915                115                    Y           1.2          Flat   \n",
              "916                174                    N           0.0          Flat   \n",
              "917                173                    N           0.0            Up   \n",
              "\n",
              "     doenca_cardiaca  \n",
              "0                  0  \n",
              "1                  1  \n",
              "2                  0  \n",
              "3                  1  \n",
              "4                  0  \n",
              "..               ...  \n",
              "913                1  \n",
              "914                1  \n",
              "915                1  \n",
              "916                1  \n",
              "917                0  \n",
              "\n",
              "[918 rows x 12 columns]"
            ],
            "text/html": [
              "\n",
              "  <div id=\"df-3c167256-78e6-4a24-a62e-0b8da244d029\">\n",
              "    <div class=\"colab-df-container\">\n",
              "      <div>\n",
              "<style scoped>\n",
              "    .dataframe tbody tr th:only-of-type {\n",
              "        vertical-align: middle;\n",
              "    }\n",
              "\n",
              "    .dataframe tbody tr th {\n",
              "        vertical-align: top;\n",
              "    }\n",
              "\n",
              "    .dataframe thead th {\n",
              "        text-align: right;\n",
              "    }\n",
              "</style>\n",
              "<table border=\"1\" class=\"dataframe\">\n",
              "  <thead>\n",
              "    <tr style=\"text-align: right;\">\n",
              "      <th></th>\n",
              "      <th>idade</th>\n",
              "      <th>sexo</th>\n",
              "      <th>tipo_dor_peito</th>\n",
              "      <th>pressao</th>\n",
              "      <th>colesterol</th>\n",
              "      <th>acucar_no_sangue</th>\n",
              "      <th>ecg</th>\n",
              "      <th>max_freq_cardiaca</th>\n",
              "      <th>angina_pós_exercicio</th>\n",
              "      <th>depressao_st</th>\n",
              "      <th>inclinacao_st</th>\n",
              "      <th>doenca_cardiaca</th>\n",
              "    </tr>\n",
              "  </thead>\n",
              "  <tbody>\n",
              "    <tr>\n",
              "      <th>0</th>\n",
              "      <td>40</td>\n",
              "      <td>M</td>\n",
              "      <td>ATA</td>\n",
              "      <td>140</td>\n",
              "      <td>289</td>\n",
              "      <td>0</td>\n",
              "      <td>Normal</td>\n",
              "      <td>172</td>\n",
              "      <td>N</td>\n",
              "      <td>0.0</td>\n",
              "      <td>Up</td>\n",
              "      <td>0</td>\n",
              "    </tr>\n",
              "    <tr>\n",
              "      <th>1</th>\n",
              "      <td>49</td>\n",
              "      <td>F</td>\n",
              "      <td>NAP</td>\n",
              "      <td>160</td>\n",
              "      <td>180</td>\n",
              "      <td>0</td>\n",
              "      <td>Normal</td>\n",
              "      <td>156</td>\n",
              "      <td>N</td>\n",
              "      <td>1.0</td>\n",
              "      <td>Flat</td>\n",
              "      <td>1</td>\n",
              "    </tr>\n",
              "    <tr>\n",
              "      <th>2</th>\n",
              "      <td>37</td>\n",
              "      <td>M</td>\n",
              "      <td>ATA</td>\n",
              "      <td>130</td>\n",
              "      <td>283</td>\n",
              "      <td>0</td>\n",
              "      <td>ST</td>\n",
              "      <td>98</td>\n",
              "      <td>N</td>\n",
              "      <td>0.0</td>\n",
              "      <td>Up</td>\n",
              "      <td>0</td>\n",
              "    </tr>\n",
              "    <tr>\n",
              "      <th>3</th>\n",
              "      <td>48</td>\n",
              "      <td>F</td>\n",
              "      <td>ASY</td>\n",
              "      <td>138</td>\n",
              "      <td>214</td>\n",
              "      <td>0</td>\n",
              "      <td>Normal</td>\n",
              "      <td>108</td>\n",
              "      <td>Y</td>\n",
              "      <td>1.5</td>\n",
              "      <td>Flat</td>\n",
              "      <td>1</td>\n",
              "    </tr>\n",
              "    <tr>\n",
              "      <th>4</th>\n",
              "      <td>54</td>\n",
              "      <td>M</td>\n",
              "      <td>NAP</td>\n",
              "      <td>150</td>\n",
              "      <td>195</td>\n",
              "      <td>0</td>\n",
              "      <td>Normal</td>\n",
              "      <td>122</td>\n",
              "      <td>N</td>\n",
              "      <td>0.0</td>\n",
              "      <td>Up</td>\n",
              "      <td>0</td>\n",
              "    </tr>\n",
              "    <tr>\n",
              "      <th>...</th>\n",
              "      <td>...</td>\n",
              "      <td>...</td>\n",
              "      <td>...</td>\n",
              "      <td>...</td>\n",
              "      <td>...</td>\n",
              "      <td>...</td>\n",
              "      <td>...</td>\n",
              "      <td>...</td>\n",
              "      <td>...</td>\n",
              "      <td>...</td>\n",
              "      <td>...</td>\n",
              "      <td>...</td>\n",
              "    </tr>\n",
              "    <tr>\n",
              "      <th>913</th>\n",
              "      <td>45</td>\n",
              "      <td>M</td>\n",
              "      <td>TA</td>\n",
              "      <td>110</td>\n",
              "      <td>264</td>\n",
              "      <td>0</td>\n",
              "      <td>Normal</td>\n",
              "      <td>132</td>\n",
              "      <td>N</td>\n",
              "      <td>1.2</td>\n",
              "      <td>Flat</td>\n",
              "      <td>1</td>\n",
              "    </tr>\n",
              "    <tr>\n",
              "      <th>914</th>\n",
              "      <td>68</td>\n",
              "      <td>M</td>\n",
              "      <td>ASY</td>\n",
              "      <td>144</td>\n",
              "      <td>193</td>\n",
              "      <td>1</td>\n",
              "      <td>Normal</td>\n",
              "      <td>141</td>\n",
              "      <td>N</td>\n",
              "      <td>3.4</td>\n",
              "      <td>Flat</td>\n",
              "      <td>1</td>\n",
              "    </tr>\n",
              "    <tr>\n",
              "      <th>915</th>\n",
              "      <td>57</td>\n",
              "      <td>M</td>\n",
              "      <td>ASY</td>\n",
              "      <td>130</td>\n",
              "      <td>131</td>\n",
              "      <td>0</td>\n",
              "      <td>Normal</td>\n",
              "      <td>115</td>\n",
              "      <td>Y</td>\n",
              "      <td>1.2</td>\n",
              "      <td>Flat</td>\n",
              "      <td>1</td>\n",
              "    </tr>\n",
              "    <tr>\n",
              "      <th>916</th>\n",
              "      <td>57</td>\n",
              "      <td>F</td>\n",
              "      <td>ATA</td>\n",
              "      <td>130</td>\n",
              "      <td>236</td>\n",
              "      <td>0</td>\n",
              "      <td>LVH</td>\n",
              "      <td>174</td>\n",
              "      <td>N</td>\n",
              "      <td>0.0</td>\n",
              "      <td>Flat</td>\n",
              "      <td>1</td>\n",
              "    </tr>\n",
              "    <tr>\n",
              "      <th>917</th>\n",
              "      <td>38</td>\n",
              "      <td>M</td>\n",
              "      <td>NAP</td>\n",
              "      <td>138</td>\n",
              "      <td>175</td>\n",
              "      <td>0</td>\n",
              "      <td>Normal</td>\n",
              "      <td>173</td>\n",
              "      <td>N</td>\n",
              "      <td>0.0</td>\n",
              "      <td>Up</td>\n",
              "      <td>0</td>\n",
              "    </tr>\n",
              "  </tbody>\n",
              "</table>\n",
              "<p>918 rows × 12 columns</p>\n",
              "</div>\n",
              "      <button class=\"colab-df-convert\" onclick=\"convertToInteractive('df-3c167256-78e6-4a24-a62e-0b8da244d029')\"\n",
              "              title=\"Convert this dataframe to an interactive table.\"\n",
              "              style=\"display:none;\">\n",
              "        \n",
              "  <svg xmlns=\"http://www.w3.org/2000/svg\" height=\"24px\"viewBox=\"0 0 24 24\"\n",
              "       width=\"24px\">\n",
              "    <path d=\"M0 0h24v24H0V0z\" fill=\"none\"/>\n",
              "    <path d=\"M18.56 5.44l.94 2.06.94-2.06 2.06-.94-2.06-.94-.94-2.06-.94 2.06-2.06.94zm-11 1L8.5 8.5l.94-2.06 2.06-.94-2.06-.94L8.5 2.5l-.94 2.06-2.06.94zm10 10l.94 2.06.94-2.06 2.06-.94-2.06-.94-.94-2.06-.94 2.06-2.06.94z\"/><path d=\"M17.41 7.96l-1.37-1.37c-.4-.4-.92-.59-1.43-.59-.52 0-1.04.2-1.43.59L10.3 9.45l-7.72 7.72c-.78.78-.78 2.05 0 2.83L4 21.41c.39.39.9.59 1.41.59.51 0 1.02-.2 1.41-.59l7.78-7.78 2.81-2.81c.8-.78.8-2.07 0-2.86zM5.41 20L4 18.59l7.72-7.72 1.47 1.35L5.41 20z\"/>\n",
              "  </svg>\n",
              "      </button>\n",
              "      \n",
              "  <style>\n",
              "    .colab-df-container {\n",
              "      display:flex;\n",
              "      flex-wrap:wrap;\n",
              "      gap: 12px;\n",
              "    }\n",
              "\n",
              "    .colab-df-convert {\n",
              "      background-color: #E8F0FE;\n",
              "      border: none;\n",
              "      border-radius: 50%;\n",
              "      cursor: pointer;\n",
              "      display: none;\n",
              "      fill: #1967D2;\n",
              "      height: 32px;\n",
              "      padding: 0 0 0 0;\n",
              "      width: 32px;\n",
              "    }\n",
              "\n",
              "    .colab-df-convert:hover {\n",
              "      background-color: #E2EBFA;\n",
              "      box-shadow: 0px 1px 2px rgba(60, 64, 67, 0.3), 0px 1px 3px 1px rgba(60, 64, 67, 0.15);\n",
              "      fill: #174EA6;\n",
              "    }\n",
              "\n",
              "    [theme=dark] .colab-df-convert {\n",
              "      background-color: #3B4455;\n",
              "      fill: #D2E3FC;\n",
              "    }\n",
              "\n",
              "    [theme=dark] .colab-df-convert:hover {\n",
              "      background-color: #434B5C;\n",
              "      box-shadow: 0px 1px 3px 1px rgba(0, 0, 0, 0.15);\n",
              "      filter: drop-shadow(0px 1px 2px rgba(0, 0, 0, 0.3));\n",
              "      fill: #FFFFFF;\n",
              "    }\n",
              "  </style>\n",
              "\n",
              "      <script>\n",
              "        const buttonEl =\n",
              "          document.querySelector('#df-3c167256-78e6-4a24-a62e-0b8da244d029 button.colab-df-convert');\n",
              "        buttonEl.style.display =\n",
              "          google.colab.kernel.accessAllowed ? 'block' : 'none';\n",
              "\n",
              "        async function convertToInteractive(key) {\n",
              "          const element = document.querySelector('#df-3c167256-78e6-4a24-a62e-0b8da244d029');\n",
              "          const dataTable =\n",
              "            await google.colab.kernel.invokeFunction('convertToInteractive',\n",
              "                                                     [key], {});\n",
              "          if (!dataTable) return;\n",
              "\n",
              "          const docLinkHtml = 'Like what you see? Visit the ' +\n",
              "            '<a target=\"_blank\" href=https://colab.research.google.com/notebooks/data_table.ipynb>data table notebook</a>'\n",
              "            + ' to learn more about interactive tables.';\n",
              "          element.innerHTML = '';\n",
              "          dataTable['output_type'] = 'display_data';\n",
              "          await google.colab.output.renderOutput(dataTable, element);\n",
              "          const docLink = document.createElement('div');\n",
              "          docLink.innerHTML = docLinkHtml;\n",
              "          element.appendChild(docLink);\n",
              "        }\n",
              "      </script>\n",
              "    </div>\n",
              "  </div>\n",
              "  "
            ]
          },
          "metadata": {},
          "execution_count": 8
        }
      ]
    },
    {
      "cell_type": "code",
      "source": [
        "# COMENTÁRIOS SOBRE O CÓDIGO \n",
        "\n",
        "# O atributo .columns permite modificar o nome das variáveis do data frame, bastando passar um vetor, \n",
        "# com a mesma dimensão do número de colunas do data frame, onde os elementos desse vetor sejam os nomes \n",
        "# desejados a fazer a modificação. "
      ],
      "metadata": {
        "id": "ZRA40ISBNx2P"
      },
      "execution_count": null,
      "outputs": []
    },
    {
      "cell_type": "markdown",
      "source": [
        "### 3) Levantamento das Variáveis Categóricas e Numéricas"
      ],
      "metadata": {
        "id": "hrONKzvXOk9P"
      }
    },
    {
      "cell_type": "markdown",
      "source": [
        "Agora, definitivamente, inicia-se a etapa da exploração de dados, dando início ao levantamento das variáveis categóricas e numéricas. Foi observado, pelas classes obtidas abaixo que *idade*, *pressao*, *colesterol*, *acucar_no_sangue*, *max_freq_cardiaca*, *depressao_st*, *doenca_cardiaca* são variáveis numéricas, o restante são categóricas.\n",
        "\n",
        "Também foi constado que a classe referente a variável *doenca_cardica* e *acucar_no_sangue* encaixasse melhor na classificação de object, e não no tipo int64, já que essa dá uma resposta *True* ou *False* com os valores 1 e 0. Portanto, no tratamento dos dados, essas variáveis devem se tornar categóricas."
      ],
      "metadata": {
        "id": "6687TtCcO7n2"
      }
    },
    {
      "cell_type": "code",
      "source": [
        "df_doencas_cardiacas.dtypes # verificando a classe das variáveis."
      ],
      "metadata": {
        "colab": {
          "base_uri": "https://localhost:8080/"
        },
        "id": "2Xb6a3NDO2Bu",
        "outputId": "adcc7bf8-1ece-4ac5-e23e-23e253c11cc7"
      },
      "execution_count": 9,
      "outputs": [
        {
          "output_type": "execute_result",
          "data": {
            "text/plain": [
              "idade                     int64\n",
              "sexo                     object\n",
              "tipo_dor_peito           object\n",
              "pressao                   int64\n",
              "colesterol                int64\n",
              "acucar_no_sangue          int64\n",
              "ecg                      object\n",
              "max_freq_cardiaca         int64\n",
              "angina_pós_exercicio     object\n",
              "depressao_st            float64\n",
              "inclinacao_st            object\n",
              "doenca_cardiaca           int64\n",
              "dtype: object"
            ]
          },
          "metadata": {},
          "execution_count": 9
        }
      ]
    },
    {
      "cell_type": "code",
      "source": [
        "df_doencas_cardiacas.describe()  # da as informações estatísticas gerais das variáveis categóricas."
      ],
      "metadata": {
        "colab": {
          "base_uri": "https://localhost:8080/",
          "height": 300
        },
        "id": "adGfNMHSp6SF",
        "outputId": "e12a644b-0331-4850-8837-0e54fb14c477"
      },
      "execution_count": 10,
      "outputs": [
        {
          "output_type": "execute_result",
          "data": {
            "text/plain": [
              "            idade     pressao  colesterol  acucar_no_sangue  \\\n",
              "count  918.000000  918.000000  918.000000        918.000000   \n",
              "mean    53.510893  132.396514  198.799564          0.233115   \n",
              "std      9.432617   18.514154  109.384145          0.423046   \n",
              "min     28.000000    0.000000    0.000000          0.000000   \n",
              "25%     47.000000  120.000000  173.250000          0.000000   \n",
              "50%     54.000000  130.000000  223.000000          0.000000   \n",
              "75%     60.000000  140.000000  267.000000          0.000000   \n",
              "max     77.000000  200.000000  603.000000          1.000000   \n",
              "\n",
              "       max_freq_cardiaca  depressao_st  doenca_cardiaca  \n",
              "count         918.000000    918.000000       918.000000  \n",
              "mean          136.809368      0.887364         0.553377  \n",
              "std            25.460334      1.066570         0.497414  \n",
              "min            60.000000     -2.600000         0.000000  \n",
              "25%           120.000000      0.000000         0.000000  \n",
              "50%           138.000000      0.600000         1.000000  \n",
              "75%           156.000000      1.500000         1.000000  \n",
              "max           202.000000      6.200000         1.000000  "
            ],
            "text/html": [
              "\n",
              "  <div id=\"df-3bdef954-d45c-43be-a6f8-d115378c1c6b\">\n",
              "    <div class=\"colab-df-container\">\n",
              "      <div>\n",
              "<style scoped>\n",
              "    .dataframe tbody tr th:only-of-type {\n",
              "        vertical-align: middle;\n",
              "    }\n",
              "\n",
              "    .dataframe tbody tr th {\n",
              "        vertical-align: top;\n",
              "    }\n",
              "\n",
              "    .dataframe thead th {\n",
              "        text-align: right;\n",
              "    }\n",
              "</style>\n",
              "<table border=\"1\" class=\"dataframe\">\n",
              "  <thead>\n",
              "    <tr style=\"text-align: right;\">\n",
              "      <th></th>\n",
              "      <th>idade</th>\n",
              "      <th>pressao</th>\n",
              "      <th>colesterol</th>\n",
              "      <th>acucar_no_sangue</th>\n",
              "      <th>max_freq_cardiaca</th>\n",
              "      <th>depressao_st</th>\n",
              "      <th>doenca_cardiaca</th>\n",
              "    </tr>\n",
              "  </thead>\n",
              "  <tbody>\n",
              "    <tr>\n",
              "      <th>count</th>\n",
              "      <td>918.000000</td>\n",
              "      <td>918.000000</td>\n",
              "      <td>918.000000</td>\n",
              "      <td>918.000000</td>\n",
              "      <td>918.000000</td>\n",
              "      <td>918.000000</td>\n",
              "      <td>918.000000</td>\n",
              "    </tr>\n",
              "    <tr>\n",
              "      <th>mean</th>\n",
              "      <td>53.510893</td>\n",
              "      <td>132.396514</td>\n",
              "      <td>198.799564</td>\n",
              "      <td>0.233115</td>\n",
              "      <td>136.809368</td>\n",
              "      <td>0.887364</td>\n",
              "      <td>0.553377</td>\n",
              "    </tr>\n",
              "    <tr>\n",
              "      <th>std</th>\n",
              "      <td>9.432617</td>\n",
              "      <td>18.514154</td>\n",
              "      <td>109.384145</td>\n",
              "      <td>0.423046</td>\n",
              "      <td>25.460334</td>\n",
              "      <td>1.066570</td>\n",
              "      <td>0.497414</td>\n",
              "    </tr>\n",
              "    <tr>\n",
              "      <th>min</th>\n",
              "      <td>28.000000</td>\n",
              "      <td>0.000000</td>\n",
              "      <td>0.000000</td>\n",
              "      <td>0.000000</td>\n",
              "      <td>60.000000</td>\n",
              "      <td>-2.600000</td>\n",
              "      <td>0.000000</td>\n",
              "    </tr>\n",
              "    <tr>\n",
              "      <th>25%</th>\n",
              "      <td>47.000000</td>\n",
              "      <td>120.000000</td>\n",
              "      <td>173.250000</td>\n",
              "      <td>0.000000</td>\n",
              "      <td>120.000000</td>\n",
              "      <td>0.000000</td>\n",
              "      <td>0.000000</td>\n",
              "    </tr>\n",
              "    <tr>\n",
              "      <th>50%</th>\n",
              "      <td>54.000000</td>\n",
              "      <td>130.000000</td>\n",
              "      <td>223.000000</td>\n",
              "      <td>0.000000</td>\n",
              "      <td>138.000000</td>\n",
              "      <td>0.600000</td>\n",
              "      <td>1.000000</td>\n",
              "    </tr>\n",
              "    <tr>\n",
              "      <th>75%</th>\n",
              "      <td>60.000000</td>\n",
              "      <td>140.000000</td>\n",
              "      <td>267.000000</td>\n",
              "      <td>0.000000</td>\n",
              "      <td>156.000000</td>\n",
              "      <td>1.500000</td>\n",
              "      <td>1.000000</td>\n",
              "    </tr>\n",
              "    <tr>\n",
              "      <th>max</th>\n",
              "      <td>77.000000</td>\n",
              "      <td>200.000000</td>\n",
              "      <td>603.000000</td>\n",
              "      <td>1.000000</td>\n",
              "      <td>202.000000</td>\n",
              "      <td>6.200000</td>\n",
              "      <td>1.000000</td>\n",
              "    </tr>\n",
              "  </tbody>\n",
              "</table>\n",
              "</div>\n",
              "      <button class=\"colab-df-convert\" onclick=\"convertToInteractive('df-3bdef954-d45c-43be-a6f8-d115378c1c6b')\"\n",
              "              title=\"Convert this dataframe to an interactive table.\"\n",
              "              style=\"display:none;\">\n",
              "        \n",
              "  <svg xmlns=\"http://www.w3.org/2000/svg\" height=\"24px\"viewBox=\"0 0 24 24\"\n",
              "       width=\"24px\">\n",
              "    <path d=\"M0 0h24v24H0V0z\" fill=\"none\"/>\n",
              "    <path d=\"M18.56 5.44l.94 2.06.94-2.06 2.06-.94-2.06-.94-.94-2.06-.94 2.06-2.06.94zm-11 1L8.5 8.5l.94-2.06 2.06-.94-2.06-.94L8.5 2.5l-.94 2.06-2.06.94zm10 10l.94 2.06.94-2.06 2.06-.94-2.06-.94-.94-2.06-.94 2.06-2.06.94z\"/><path d=\"M17.41 7.96l-1.37-1.37c-.4-.4-.92-.59-1.43-.59-.52 0-1.04.2-1.43.59L10.3 9.45l-7.72 7.72c-.78.78-.78 2.05 0 2.83L4 21.41c.39.39.9.59 1.41.59.51 0 1.02-.2 1.41-.59l7.78-7.78 2.81-2.81c.8-.78.8-2.07 0-2.86zM5.41 20L4 18.59l7.72-7.72 1.47 1.35L5.41 20z\"/>\n",
              "  </svg>\n",
              "      </button>\n",
              "      \n",
              "  <style>\n",
              "    .colab-df-container {\n",
              "      display:flex;\n",
              "      flex-wrap:wrap;\n",
              "      gap: 12px;\n",
              "    }\n",
              "\n",
              "    .colab-df-convert {\n",
              "      background-color: #E8F0FE;\n",
              "      border: none;\n",
              "      border-radius: 50%;\n",
              "      cursor: pointer;\n",
              "      display: none;\n",
              "      fill: #1967D2;\n",
              "      height: 32px;\n",
              "      padding: 0 0 0 0;\n",
              "      width: 32px;\n",
              "    }\n",
              "\n",
              "    .colab-df-convert:hover {\n",
              "      background-color: #E2EBFA;\n",
              "      box-shadow: 0px 1px 2px rgba(60, 64, 67, 0.3), 0px 1px 3px 1px rgba(60, 64, 67, 0.15);\n",
              "      fill: #174EA6;\n",
              "    }\n",
              "\n",
              "    [theme=dark] .colab-df-convert {\n",
              "      background-color: #3B4455;\n",
              "      fill: #D2E3FC;\n",
              "    }\n",
              "\n",
              "    [theme=dark] .colab-df-convert:hover {\n",
              "      background-color: #434B5C;\n",
              "      box-shadow: 0px 1px 3px 1px rgba(0, 0, 0, 0.15);\n",
              "      filter: drop-shadow(0px 1px 2px rgba(0, 0, 0, 0.3));\n",
              "      fill: #FFFFFF;\n",
              "    }\n",
              "  </style>\n",
              "\n",
              "      <script>\n",
              "        const buttonEl =\n",
              "          document.querySelector('#df-3bdef954-d45c-43be-a6f8-d115378c1c6b button.colab-df-convert');\n",
              "        buttonEl.style.display =\n",
              "          google.colab.kernel.accessAllowed ? 'block' : 'none';\n",
              "\n",
              "        async function convertToInteractive(key) {\n",
              "          const element = document.querySelector('#df-3bdef954-d45c-43be-a6f8-d115378c1c6b');\n",
              "          const dataTable =\n",
              "            await google.colab.kernel.invokeFunction('convertToInteractive',\n",
              "                                                     [key], {});\n",
              "          if (!dataTable) return;\n",
              "\n",
              "          const docLinkHtml = 'Like what you see? Visit the ' +\n",
              "            '<a target=\"_blank\" href=https://colab.research.google.com/notebooks/data_table.ipynb>data table notebook</a>'\n",
              "            + ' to learn more about interactive tables.';\n",
              "          element.innerHTML = '';\n",
              "          dataTable['output_type'] = 'display_data';\n",
              "          await google.colab.output.renderOutput(dataTable, element);\n",
              "          const docLink = document.createElement('div');\n",
              "          docLink.innerHTML = docLinkHtml;\n",
              "          element.appendChild(docLink);\n",
              "        }\n",
              "      </script>\n",
              "    </div>\n",
              "  </div>\n",
              "  "
            ]
          },
          "metadata": {},
          "execution_count": 10
        }
      ]
    },
    {
      "cell_type": "code",
      "source": [
        "# COMENTÁRIOS SOBRE O CÓDIGO \n",
        "\n",
        "# O atributo dtypes permite verificar qual a classe das variáveis.\n",
        "# O método .describe(...) passa um relatório completo das informações estatísticas das variáveis numéricas\n",
        "# presentes, como as medidas de centrabilidade, posição e de variabilidade, além de contar o número\n",
        "# total de linhas."
      ],
      "metadata": {
        "id": "iI1KfIKyQLCC"
      },
      "execution_count": null,
      "outputs": []
    },
    {
      "cell_type": "markdown",
      "source": [
        "### 4) Erros de Duplicidade\n",
        "\n",
        "Não existem linhas duplicadas, de acordo com a saída do código abaixo, então não há erro de duplicidade."
      ],
      "metadata": {
        "id": "DBgCxKd1SOC5"
      }
    },
    {
      "cell_type": "code",
      "source": [
        "df_doencas_cardiacas[df_doencas_cardiacas.duplicated()]  # verificando se existem linhas duplicadas."
      ],
      "metadata": {
        "colab": {
          "base_uri": "https://localhost:8080/",
          "height": 113
        },
        "id": "GSAD4gw_sjlo",
        "outputId": "24b29233-bcd4-4d74-ede6-1f83eacb1ba7"
      },
      "execution_count": 11,
      "outputs": [
        {
          "output_type": "execute_result",
          "data": {
            "text/plain": [
              "Empty DataFrame\n",
              "Columns: [idade, sexo, tipo_dor_peito, pressao, colesterol, acucar_no_sangue, ecg, max_freq_cardiaca, angina_pós_exercicio, depressao_st, inclinacao_st, doenca_cardiaca]\n",
              "Index: []"
            ],
            "text/html": [
              "\n",
              "  <div id=\"df-a60b5fcb-5179-4a5c-a018-634467ba8d29\">\n",
              "    <div class=\"colab-df-container\">\n",
              "      <div>\n",
              "<style scoped>\n",
              "    .dataframe tbody tr th:only-of-type {\n",
              "        vertical-align: middle;\n",
              "    }\n",
              "\n",
              "    .dataframe tbody tr th {\n",
              "        vertical-align: top;\n",
              "    }\n",
              "\n",
              "    .dataframe thead th {\n",
              "        text-align: right;\n",
              "    }\n",
              "</style>\n",
              "<table border=\"1\" class=\"dataframe\">\n",
              "  <thead>\n",
              "    <tr style=\"text-align: right;\">\n",
              "      <th></th>\n",
              "      <th>idade</th>\n",
              "      <th>sexo</th>\n",
              "      <th>tipo_dor_peito</th>\n",
              "      <th>pressao</th>\n",
              "      <th>colesterol</th>\n",
              "      <th>acucar_no_sangue</th>\n",
              "      <th>ecg</th>\n",
              "      <th>max_freq_cardiaca</th>\n",
              "      <th>angina_pós_exercicio</th>\n",
              "      <th>depressao_st</th>\n",
              "      <th>inclinacao_st</th>\n",
              "      <th>doenca_cardiaca</th>\n",
              "    </tr>\n",
              "  </thead>\n",
              "  <tbody>\n",
              "  </tbody>\n",
              "</table>\n",
              "</div>\n",
              "      <button class=\"colab-df-convert\" onclick=\"convertToInteractive('df-a60b5fcb-5179-4a5c-a018-634467ba8d29')\"\n",
              "              title=\"Convert this dataframe to an interactive table.\"\n",
              "              style=\"display:none;\">\n",
              "        \n",
              "  <svg xmlns=\"http://www.w3.org/2000/svg\" height=\"24px\"viewBox=\"0 0 24 24\"\n",
              "       width=\"24px\">\n",
              "    <path d=\"M0 0h24v24H0V0z\" fill=\"none\"/>\n",
              "    <path d=\"M18.56 5.44l.94 2.06.94-2.06 2.06-.94-2.06-.94-.94-2.06-.94 2.06-2.06.94zm-11 1L8.5 8.5l.94-2.06 2.06-.94-2.06-.94L8.5 2.5l-.94 2.06-2.06.94zm10 10l.94 2.06.94-2.06 2.06-.94-2.06-.94-.94-2.06-.94 2.06-2.06.94z\"/><path d=\"M17.41 7.96l-1.37-1.37c-.4-.4-.92-.59-1.43-.59-.52 0-1.04.2-1.43.59L10.3 9.45l-7.72 7.72c-.78.78-.78 2.05 0 2.83L4 21.41c.39.39.9.59 1.41.59.51 0 1.02-.2 1.41-.59l7.78-7.78 2.81-2.81c.8-.78.8-2.07 0-2.86zM5.41 20L4 18.59l7.72-7.72 1.47 1.35L5.41 20z\"/>\n",
              "  </svg>\n",
              "      </button>\n",
              "      \n",
              "  <style>\n",
              "    .colab-df-container {\n",
              "      display:flex;\n",
              "      flex-wrap:wrap;\n",
              "      gap: 12px;\n",
              "    }\n",
              "\n",
              "    .colab-df-convert {\n",
              "      background-color: #E8F0FE;\n",
              "      border: none;\n",
              "      border-radius: 50%;\n",
              "      cursor: pointer;\n",
              "      display: none;\n",
              "      fill: #1967D2;\n",
              "      height: 32px;\n",
              "      padding: 0 0 0 0;\n",
              "      width: 32px;\n",
              "    }\n",
              "\n",
              "    .colab-df-convert:hover {\n",
              "      background-color: #E2EBFA;\n",
              "      box-shadow: 0px 1px 2px rgba(60, 64, 67, 0.3), 0px 1px 3px 1px rgba(60, 64, 67, 0.15);\n",
              "      fill: #174EA6;\n",
              "    }\n",
              "\n",
              "    [theme=dark] .colab-df-convert {\n",
              "      background-color: #3B4455;\n",
              "      fill: #D2E3FC;\n",
              "    }\n",
              "\n",
              "    [theme=dark] .colab-df-convert:hover {\n",
              "      background-color: #434B5C;\n",
              "      box-shadow: 0px 1px 3px 1px rgba(0, 0, 0, 0.15);\n",
              "      filter: drop-shadow(0px 1px 2px rgba(0, 0, 0, 0.3));\n",
              "      fill: #FFFFFF;\n",
              "    }\n",
              "  </style>\n",
              "\n",
              "      <script>\n",
              "        const buttonEl =\n",
              "          document.querySelector('#df-a60b5fcb-5179-4a5c-a018-634467ba8d29 button.colab-df-convert');\n",
              "        buttonEl.style.display =\n",
              "          google.colab.kernel.accessAllowed ? 'block' : 'none';\n",
              "\n",
              "        async function convertToInteractive(key) {\n",
              "          const element = document.querySelector('#df-a60b5fcb-5179-4a5c-a018-634467ba8d29');\n",
              "          const dataTable =\n",
              "            await google.colab.kernel.invokeFunction('convertToInteractive',\n",
              "                                                     [key], {});\n",
              "          if (!dataTable) return;\n",
              "\n",
              "          const docLinkHtml = 'Like what you see? Visit the ' +\n",
              "            '<a target=\"_blank\" href=https://colab.research.google.com/notebooks/data_table.ipynb>data table notebook</a>'\n",
              "            + ' to learn more about interactive tables.';\n",
              "          element.innerHTML = '';\n",
              "          dataTable['output_type'] = 'display_data';\n",
              "          await google.colab.output.renderOutput(dataTable, element);\n",
              "          const docLink = document.createElement('div');\n",
              "          docLink.innerHTML = docLinkHtml;\n",
              "          element.appendChild(docLink);\n",
              "        }\n",
              "      </script>\n",
              "    </div>\n",
              "  </div>\n",
              "  "
            ]
          },
          "metadata": {},
          "execution_count": 11
        }
      ]
    },
    {
      "cell_type": "code",
      "source": [
        "# COMENTÁRIOS SOBRE O CÓDIGO \n",
        "\n",
        "# O método .duplicated(...) avalia se o df ou suas variavéis possuem linhas duplicadas.\n",
        "# O argumento keep = '...' especifica a operação que será realizada quan o df que contém as linhas duplicadas. Para\n",
        "# deletar a primeira linha duplicada passar 'first', para segundo linha ou demais passar 'last'."
      ],
      "metadata": {
        "id": "JAYVCVPd4rCV"
      },
      "execution_count": null,
      "outputs": []
    },
    {
      "cell_type": "markdown",
      "source": [
        "### 5) Erros de Conformidade\n",
        "\n",
        "O erro de conformidade dos dados mostra os valores categóricos que não são permitidos, esse erro não foi observado, conforme a saída dos códigos abaixo, para as diferentes variáveis categóricas presente no *data set*, já que nenhuma delas apresentau um valor fora do permitido pelo dicionário de variáveis. "
      ],
      "metadata": {
        "id": "3mg5fUJ1SeI2"
      }
    },
    {
      "cell_type": "code",
      "source": [
        "fig, axes = plt.subplots(1, 5, figsize=(23, 3), sharey=False) # subdividindo a área gráfica para os posteriores plots.\n",
        "fig.suptitle('Consistência dos Dados') # Dando um título para a figura\n",
        "\n",
        "sns.countplot(ax = axes[0], x = \"sexo\", data = df_doencas_cardiacas) # plotando um gráfico de barras.\n",
        "sns.countplot(ax = axes[1], x = \"tipo_dor_peito\", data = df_doencas_cardiacas) # plotando um gráfico de barras.\n",
        "sns.countplot(ax = axes[2], x = \"ecg\", data = df_doencas_cardiacas) # plotando um gráfico de barras.\n",
        "sns.countplot(ax = axes[3], x = \"angina_pós_exercicio\", data = df_doencas_cardiacas) # plotando um gráfico de barras.\n",
        "sns.countplot(ax = axes[4], x = \"inclinacao_st\", data = df_doencas_cardiacas) # plotando um gráfico de barras."
      ],
      "metadata": {
        "colab": {
          "base_uri": "https://localhost:8080/",
          "height": 197
        },
        "id": "Xw5-EY4e_GPU",
        "outputId": "e8f550ab-c244-4661-bcf2-3bf725bf9089"
      },
      "execution_count": 12,
      "outputs": [
        {
          "output_type": "execute_result",
          "data": {
            "text/plain": [
              "<matplotlib.axes._subplots.AxesSubplot at 0x7fb5c2436a90>"
            ]
          },
          "metadata": {},
          "execution_count": 12
        },
        {
          "output_type": "display_data",
          "data": {
            "text/plain": [
              "<Figure size 1656x216 with 5 Axes>"
            ],
            "image/png": "[encoded data removed]"
          },
          "metadata": {
            "needs_background": "light"
          }
        }
      ]
    },
    {
      "cell_type": "markdown",
      "source": [
        "O resultado da figura acima mostrou que nenhuma variável obteve um valor fora do permitido pelo dicionário de variáveis."
      ],
      "metadata": {
        "id": "JhxS4fXP-hqD"
      }
    },
    {
      "cell_type": "code",
      "source": [
        "pd.DataFrame(df_doencas_cardiacas.acucar_no_sangue.value_counts())  # contabiliazndo os valores da variável e transformando a saída em um data frame."
      ],
      "metadata": {
        "colab": {
          "base_uri": "https://localhost:8080/",
          "height": 112
        },
        "id": "8i0QRKy8KW0m",
        "outputId": "1f8da82d-ff39-4935-9b0e-083feba1df2c"
      },
      "execution_count": 13,
      "outputs": [
        {
          "output_type": "execute_result",
          "data": {
            "text/plain": [
              "   acucar_no_sangue\n",
              "0               704\n",
              "1               214"
            ],
            "text/html": [
              "\n",
              "  <div id=\"df-089b6b2f-ee84-454e-b0b0-d2abe27fa4c6\">\n",
              "    <div class=\"colab-df-container\">\n",
              "      <div>\n",
              "<style scoped>\n",
              "    .dataframe tbody tr th:only-of-type {\n",
              "        vertical-align: middle;\n",
              "    }\n",
              "\n",
              "    .dataframe tbody tr th {\n",
              "        vertical-align: top;\n",
              "    }\n",
              "\n",
              "    .dataframe thead th {\n",
              "        text-align: right;\n",
              "    }\n",
              "</style>\n",
              "<table border=\"1\" class=\"dataframe\">\n",
              "  <thead>\n",
              "    <tr style=\"text-align: right;\">\n",
              "      <th></th>\n",
              "      <th>acucar_no_sangue</th>\n",
              "    </tr>\n",
              "  </thead>\n",
              "  <tbody>\n",
              "    <tr>\n",
              "      <th>0</th>\n",
              "      <td>704</td>\n",
              "    </tr>\n",
              "    <tr>\n",
              "      <th>1</th>\n",
              "      <td>214</td>\n",
              "    </tr>\n",
              "  </tbody>\n",
              "</table>\n",
              "</div>\n",
              "      <button class=\"colab-df-convert\" onclick=\"convertToInteractive('df-089b6b2f-ee84-454e-b0b0-d2abe27fa4c6')\"\n",
              "              title=\"Convert this dataframe to an interactive table.\"\n",
              "              style=\"display:none;\">\n",
              "        \n",
              "  <svg xmlns=\"http://www.w3.org/2000/svg\" height=\"24px\"viewBox=\"0 0 24 24\"\n",
              "       width=\"24px\">\n",
              "    <path d=\"M0 0h24v24H0V0z\" fill=\"none\"/>\n",
              "    <path d=\"M18.56 5.44l.94 2.06.94-2.06 2.06-.94-2.06-.94-.94-2.06-.94 2.06-2.06.94zm-11 1L8.5 8.5l.94-2.06 2.06-.94-2.06-.94L8.5 2.5l-.94 2.06-2.06.94zm10 10l.94 2.06.94-2.06 2.06-.94-2.06-.94-.94-2.06-.94 2.06-2.06.94z\"/><path d=\"M17.41 7.96l-1.37-1.37c-.4-.4-.92-.59-1.43-.59-.52 0-1.04.2-1.43.59L10.3 9.45l-7.72 7.72c-.78.78-.78 2.05 0 2.83L4 21.41c.39.39.9.59 1.41.59.51 0 1.02-.2 1.41-.59l7.78-7.78 2.81-2.81c.8-.78.8-2.07 0-2.86zM5.41 20L4 18.59l7.72-7.72 1.47 1.35L5.41 20z\"/>\n",
              "  </svg>\n",
              "      </button>\n",
              "      \n",
              "  <style>\n",
              "    .colab-df-container {\n",
              "      display:flex;\n",
              "      flex-wrap:wrap;\n",
              "      gap: 12px;\n",
              "    }\n",
              "\n",
              "    .colab-df-convert {\n",
              "      background-color: #E8F0FE;\n",
              "      border: none;\n",
              "      border-radius: 50%;\n",
              "      cursor: pointer;\n",
              "      display: none;\n",
              "      fill: #1967D2;\n",
              "      height: 32px;\n",
              "      padding: 0 0 0 0;\n",
              "      width: 32px;\n",
              "    }\n",
              "\n",
              "    .colab-df-convert:hover {\n",
              "      background-color: #E2EBFA;\n",
              "      box-shadow: 0px 1px 2px rgba(60, 64, 67, 0.3), 0px 1px 3px 1px rgba(60, 64, 67, 0.15);\n",
              "      fill: #174EA6;\n",
              "    }\n",
              "\n",
              "    [theme=dark] .colab-df-convert {\n",
              "      background-color: #3B4455;\n",
              "      fill: #D2E3FC;\n",
              "    }\n",
              "\n",
              "    [theme=dark] .colab-df-convert:hover {\n",
              "      background-color: #434B5C;\n",
              "      box-shadow: 0px 1px 3px 1px rgba(0, 0, 0, 0.15);\n",
              "      filter: drop-shadow(0px 1px 2px rgba(0, 0, 0, 0.3));\n",
              "      fill: #FFFFFF;\n",
              "    }\n",
              "  </style>\n",
              "\n",
              "      <script>\n",
              "        const buttonEl =\n",
              "          document.querySelector('#df-089b6b2f-ee84-454e-b0b0-d2abe27fa4c6 button.colab-df-convert');\n",
              "        buttonEl.style.display =\n",
              "          google.colab.kernel.accessAllowed ? 'block' : 'none';\n",
              "\n",
              "        async function convertToInteractive(key) {\n",
              "          const element = document.querySelector('#df-089b6b2f-ee84-454e-b0b0-d2abe27fa4c6');\n",
              "          const dataTable =\n",
              "            await google.colab.kernel.invokeFunction('convertToInteractive',\n",
              "                                                     [key], {});\n",
              "          if (!dataTable) return;\n",
              "\n",
              "          const docLinkHtml = 'Like what you see? Visit the ' +\n",
              "            '<a target=\"_blank\" href=https://colab.research.google.com/notebooks/data_table.ipynb>data table notebook</a>'\n",
              "            + ' to learn more about interactive tables.';\n",
              "          element.innerHTML = '';\n",
              "          dataTable['output_type'] = 'display_data';\n",
              "          await google.colab.output.renderOutput(dataTable, element);\n",
              "          const docLink = document.createElement('div');\n",
              "          docLink.innerHTML = docLinkHtml;\n",
              "          element.appendChild(docLink);\n",
              "        }\n",
              "      </script>\n",
              "    </div>\n",
              "  </div>\n",
              "  "
            ]
          },
          "metadata": {},
          "execution_count": 13
        }
      ]
    },
    {
      "cell_type": "code",
      "source": [
        "pd.DataFrame(df_doencas_cardiacas['doenca_cardiaca'].value_counts()) # contabiliazndo os valores da variável e transformando a saída em um data frame."
      ],
      "metadata": {
        "colab": {
          "base_uri": "https://localhost:8080/",
          "height": 112
        },
        "id": "IvrmW5PF5MTv",
        "outputId": "7ee7d417-84ce-4b58-ac8f-44cd8540d0ac"
      },
      "execution_count": 14,
      "outputs": [
        {
          "output_type": "execute_result",
          "data": {
            "text/plain": [
              "   doenca_cardiaca\n",
              "1              508\n",
              "0              410"
            ],
            "text/html": [
              "\n",
              "  <div id=\"df-faf17179-d546-42db-98eb-2dfb0cfa5a02\">\n",
              "    <div class=\"colab-df-container\">\n",
              "      <div>\n",
              "<style scoped>\n",
              "    .dataframe tbody tr th:only-of-type {\n",
              "        vertical-align: middle;\n",
              "    }\n",
              "\n",
              "    .dataframe tbody tr th {\n",
              "        vertical-align: top;\n",
              "    }\n",
              "\n",
              "    .dataframe thead th {\n",
              "        text-align: right;\n",
              "    }\n",
              "</style>\n",
              "<table border=\"1\" class=\"dataframe\">\n",
              "  <thead>\n",
              "    <tr style=\"text-align: right;\">\n",
              "      <th></th>\n",
              "      <th>doenca_cardiaca</th>\n",
              "    </tr>\n",
              "  </thead>\n",
              "  <tbody>\n",
              "    <tr>\n",
              "      <th>1</th>\n",
              "      <td>508</td>\n",
              "    </tr>\n",
              "    <tr>\n",
              "      <th>0</th>\n",
              "      <td>410</td>\n",
              "    </tr>\n",
              "  </tbody>\n",
              "</table>\n",
              "</div>\n",
              "      <button class=\"colab-df-convert\" onclick=\"convertToInteractive('df-faf17179-d546-42db-98eb-2dfb0cfa5a02')\"\n",
              "              title=\"Convert this dataframe to an interactive table.\"\n",
              "              style=\"display:none;\">\n",
              "        \n",
              "  <svg xmlns=\"http://www.w3.org/2000/svg\" height=\"24px\"viewBox=\"0 0 24 24\"\n",
              "       width=\"24px\">\n",
              "    <path d=\"M0 0h24v24H0V0z\" fill=\"none\"/>\n",
              "    <path d=\"M18.56 5.44l.94 2.06.94-2.06 2.06-.94-2.06-.94-.94-2.06-.94 2.06-2.06.94zm-11 1L8.5 8.5l.94-2.06 2.06-.94-2.06-.94L8.5 2.5l-.94 2.06-2.06.94zm10 10l.94 2.06.94-2.06 2.06-.94-2.06-.94-.94-2.06-.94 2.06-2.06.94z\"/><path d=\"M17.41 7.96l-1.37-1.37c-.4-.4-.92-.59-1.43-.59-.52 0-1.04.2-1.43.59L10.3 9.45l-7.72 7.72c-.78.78-.78 2.05 0 2.83L4 21.41c.39.39.9.59 1.41.59.51 0 1.02-.2 1.41-.59l7.78-7.78 2.81-2.81c.8-.78.8-2.07 0-2.86zM5.41 20L4 18.59l7.72-7.72 1.47 1.35L5.41 20z\"/>\n",
              "  </svg>\n",
              "      </button>\n",
              "      \n",
              "  <style>\n",
              "    .colab-df-container {\n",
              "      display:flex;\n",
              "      flex-wrap:wrap;\n",
              "      gap: 12px;\n",
              "    }\n",
              "\n",
              "    .colab-df-convert {\n",
              "      background-color: #E8F0FE;\n",
              "      border: none;\n",
              "      border-radius: 50%;\n",
              "      cursor: pointer;\n",
              "      display: none;\n",
              "      fill: #1967D2;\n",
              "      height: 32px;\n",
              "      padding: 0 0 0 0;\n",
              "      width: 32px;\n",
              "    }\n",
              "\n",
              "    .colab-df-convert:hover {\n",
              "      background-color: #E2EBFA;\n",
              "      box-shadow: 0px 1px 2px rgba(60, 64, 67, 0.3), 0px 1px 3px 1px rgba(60, 64, 67, 0.15);\n",
              "      fill: #174EA6;\n",
              "    }\n",
              "\n",
              "    [theme=dark] .colab-df-convert {\n",
              "      background-color: #3B4455;\n",
              "      fill: #D2E3FC;\n",
              "    }\n",
              "\n",
              "    [theme=dark] .colab-df-convert:hover {\n",
              "      background-color: #434B5C;\n",
              "      box-shadow: 0px 1px 3px 1px rgba(0, 0, 0, 0.15);\n",
              "      filter: drop-shadow(0px 1px 2px rgba(0, 0, 0, 0.3));\n",
              "      fill: #FFFFFF;\n",
              "    }\n",
              "  </style>\n",
              "\n",
              "      <script>\n",
              "        const buttonEl =\n",
              "          document.querySelector('#df-faf17179-d546-42db-98eb-2dfb0cfa5a02 button.colab-df-convert');\n",
              "        buttonEl.style.display =\n",
              "          google.colab.kernel.accessAllowed ? 'block' : 'none';\n",
              "\n",
              "        async function convertToInteractive(key) {\n",
              "          const element = document.querySelector('#df-faf17179-d546-42db-98eb-2dfb0cfa5a02');\n",
              "          const dataTable =\n",
              "            await google.colab.kernel.invokeFunction('convertToInteractive',\n",
              "                                                     [key], {});\n",
              "          if (!dataTable) return;\n",
              "\n",
              "          const docLinkHtml = 'Like what you see? Visit the ' +\n",
              "            '<a target=\"_blank\" href=https://colab.research.google.com/notebooks/data_table.ipynb>data table notebook</a>'\n",
              "            + ' to learn more about interactive tables.';\n",
              "          element.innerHTML = '';\n",
              "          dataTable['output_type'] = 'display_data';\n",
              "          await google.colab.output.renderOutput(dataTable, element);\n",
              "          const docLink = document.createElement('div');\n",
              "          docLink.innerHTML = docLinkHtml;\n",
              "          element.appendChild(docLink);\n",
              "        }\n",
              "      </script>\n",
              "    </div>\n",
              "  </div>\n",
              "  "
            ]
          },
          "metadata": {},
          "execution_count": 14
        }
      ]
    },
    {
      "cell_type": "markdown",
      "source": [
        "Tanto o data frame contabilizando a respota para o açucar no sangue, quanto o que informa se o paciente teve doença cardíaca, não apresentaram resultados que não fossem os do dicionário de variáveis.\n",
        "\n",
        "Como erros de conformidade não foram identificado, logo também não aconteceram erros de integridade. "
      ],
      "metadata": {
        "id": "D6l7U1nsBxGd"
      }
    },
    {
      "cell_type": "code",
      "source": [
        "# COMENTÁRIOS SOBRE O CÓDIGO \n",
        "\n",
        "# O método .value_counts(...) contabiliza os valores que são apresentados em uma variável do data frame.\n",
        "# O método pd.DataFrame permite tranformar as variáveis recebidas no argumento em um data frame, essa variável deve estar em um formato de df.\n",
        "# .subplot(...) faz a divisão da área gráfica que será plotada na figura.\n",
        "# .countplot(...) plota um gráfico de barras conforme as informações passadas no argumento."
      ],
      "metadata": {
        "id": "lur_D_KE5Vc0"
      },
      "execution_count": null,
      "outputs": []
    },
    {
      "cell_type": "markdown",
      "source": [
        "### 6) Erros de Completude\n",
        "\n",
        "O erro de completude se refere aquele em que as variáveis numéricas contém valores fora do domínio permitido. Através do uso do método **describe(…)**, ou do pelo gráfico boxplot, pode-se verificar as variáveis que contém os valores fora do dominio permitido pelo dicionário de variáveis.\n",
        "\n"
      ],
      "metadata": {
        "id": "RABaRRAwSiSv"
      }
    },
    {
      "cell_type": "code",
      "source": [
        "df_doencas_cardiacas.describe()  # obterndo as informações estatísticas gerais das variáveis categóricas."
      ],
      "metadata": {
        "colab": {
          "base_uri": "https://localhost:8080/",
          "height": 300
        },
        "id": "gA9uLgH8Gs50",
        "outputId": "5d7d217b-cb9f-4284-c105-c7b0b55f86ae"
      },
      "execution_count": 15,
      "outputs": [
        {
          "output_type": "execute_result",
          "data": {
            "text/plain": [
              "            idade     pressao  colesterol  acucar_no_sangue  \\\n",
              "count  918.000000  918.000000  918.000000        918.000000   \n",
              "mean    53.510893  132.396514  198.799564          0.233115   \n",
              "std      9.432617   18.514154  109.384145          0.423046   \n",
              "min     28.000000    0.000000    0.000000          0.000000   \n",
              "25%     47.000000  120.000000  173.250000          0.000000   \n",
              "50%     54.000000  130.000000  223.000000          0.000000   \n",
              "75%     60.000000  140.000000  267.000000          0.000000   \n",
              "max     77.000000  200.000000  603.000000          1.000000   \n",
              "\n",
              "       max_freq_cardiaca  depressao_st  doenca_cardiaca  \n",
              "count         918.000000    918.000000       918.000000  \n",
              "mean          136.809368      0.887364         0.553377  \n",
              "std            25.460334      1.066570         0.497414  \n",
              "min            60.000000     -2.600000         0.000000  \n",
              "25%           120.000000      0.000000         0.000000  \n",
              "50%           138.000000      0.600000         1.000000  \n",
              "75%           156.000000      1.500000         1.000000  \n",
              "max           202.000000      6.200000         1.000000  "
            ],
            "text/html": [
              "\n",
              "  <div id=\"df-49034aa9-42dd-4de8-b717-078cfbac7451\">\n",
              "    <div class=\"colab-df-container\">\n",
              "      <div>\n",
              "<style scoped>\n",
              "    .dataframe tbody tr th:only-of-type {\n",
              "        vertical-align: middle;\n",
              "    }\n",
              "\n",
              "    .dataframe tbody tr th {\n",
              "        vertical-align: top;\n",
              "    }\n",
              "\n",
              "    .dataframe thead th {\n",
              "        text-align: right;\n",
              "    }\n",
              "</style>\n",
              "<table border=\"1\" class=\"dataframe\">\n",
              "  <thead>\n",
              "    <tr style=\"text-align: right;\">\n",
              "      <th></th>\n",
              "      <th>idade</th>\n",
              "      <th>pressao</th>\n",
              "      <th>colesterol</th>\n",
              "      <th>acucar_no_sangue</th>\n",
              "      <th>max_freq_cardiaca</th>\n",
              "      <th>depressao_st</th>\n",
              "      <th>doenca_cardiaca</th>\n",
              "    </tr>\n",
              "  </thead>\n",
              "  <tbody>\n",
              "    <tr>\n",
              "      <th>count</th>\n",
              "      <td>918.000000</td>\n",
              "      <td>918.000000</td>\n",
              "      <td>918.000000</td>\n",
              "      <td>918.000000</td>\n",
              "      <td>918.000000</td>\n",
              "      <td>918.000000</td>\n",
              "      <td>918.000000</td>\n",
              "    </tr>\n",
              "    <tr>\n",
              "      <th>mean</th>\n",
              "      <td>53.510893</td>\n",
              "      <td>132.396514</td>\n",
              "      <td>198.799564</td>\n",
              "      <td>0.233115</td>\n",
              "      <td>136.809368</td>\n",
              "      <td>0.887364</td>\n",
              "      <td>0.553377</td>\n",
              "    </tr>\n",
              "    <tr>\n",
              "      <th>std</th>\n",
              "      <td>9.432617</td>\n",
              "      <td>18.514154</td>\n",
              "      <td>109.384145</td>\n",
              "      <td>0.423046</td>\n",
              "      <td>25.460334</td>\n",
              "      <td>1.066570</td>\n",
              "      <td>0.497414</td>\n",
              "    </tr>\n",
              "    <tr>\n",
              "      <th>min</th>\n",
              "      <td>28.000000</td>\n",
              "      <td>0.000000</td>\n",
              "      <td>0.000000</td>\n",
              "      <td>0.000000</td>\n",
              "      <td>60.000000</td>\n",
              "      <td>-2.600000</td>\n",
              "      <td>0.000000</td>\n",
              "    </tr>\n",
              "    <tr>\n",
              "      <th>25%</th>\n",
              "      <td>47.000000</td>\n",
              "      <td>120.000000</td>\n",
              "      <td>173.250000</td>\n",
              "      <td>0.000000</td>\n",
              "      <td>120.000000</td>\n",
              "      <td>0.000000</td>\n",
              "      <td>0.000000</td>\n",
              "    </tr>\n",
              "    <tr>\n",
              "      <th>50%</th>\n",
              "      <td>54.000000</td>\n",
              "      <td>130.000000</td>\n",
              "      <td>223.000000</td>\n",
              "      <td>0.000000</td>\n",
              "      <td>138.000000</td>\n",
              "      <td>0.600000</td>\n",
              "      <td>1.000000</td>\n",
              "    </tr>\n",
              "    <tr>\n",
              "      <th>75%</th>\n",
              "      <td>60.000000</td>\n",
              "      <td>140.000000</td>\n",
              "      <td>267.000000</td>\n",
              "      <td>0.000000</td>\n",
              "      <td>156.000000</td>\n",
              "      <td>1.500000</td>\n",
              "      <td>1.000000</td>\n",
              "    </tr>\n",
              "    <tr>\n",
              "      <th>max</th>\n",
              "      <td>77.000000</td>\n",
              "      <td>200.000000</td>\n",
              "      <td>603.000000</td>\n",
              "      <td>1.000000</td>\n",
              "      <td>202.000000</td>\n",
              "      <td>6.200000</td>\n",
              "      <td>1.000000</td>\n",
              "    </tr>\n",
              "  </tbody>\n",
              "</table>\n",
              "</div>\n",
              "      <button class=\"colab-df-convert\" onclick=\"convertToInteractive('df-49034aa9-42dd-4de8-b717-078cfbac7451')\"\n",
              "              title=\"Convert this dataframe to an interactive table.\"\n",
              "              style=\"display:none;\">\n",
              "        \n",
              "  <svg xmlns=\"http://www.w3.org/2000/svg\" height=\"24px\"viewBox=\"0 0 24 24\"\n",
              "       width=\"24px\">\n",
              "    <path d=\"M0 0h24v24H0V0z\" fill=\"none\"/>\n",
              "    <path d=\"M18.56 5.44l.94 2.06.94-2.06 2.06-.94-2.06-.94-.94-2.06-.94 2.06-2.06.94zm-11 1L8.5 8.5l.94-2.06 2.06-.94-2.06-.94L8.5 2.5l-.94 2.06-2.06.94zm10 10l.94 2.06.94-2.06 2.06-.94-2.06-.94-.94-2.06-.94 2.06-2.06.94z\"/><path d=\"M17.41 7.96l-1.37-1.37c-.4-.4-.92-.59-1.43-.59-.52 0-1.04.2-1.43.59L10.3 9.45l-7.72 7.72c-.78.78-.78 2.05 0 2.83L4 21.41c.39.39.9.59 1.41.59.51 0 1.02-.2 1.41-.59l7.78-7.78 2.81-2.81c.8-.78.8-2.07 0-2.86zM5.41 20L4 18.59l7.72-7.72 1.47 1.35L5.41 20z\"/>\n",
              "  </svg>\n",
              "      </button>\n",
              "      \n",
              "  <style>\n",
              "    .colab-df-container {\n",
              "      display:flex;\n",
              "      flex-wrap:wrap;\n",
              "      gap: 12px;\n",
              "    }\n",
              "\n",
              "    .colab-df-convert {\n",
              "      background-color: #E8F0FE;\n",
              "      border: none;\n",
              "      border-radius: 50%;\n",
              "      cursor: pointer;\n",
              "      display: none;\n",
              "      fill: #1967D2;\n",
              "      height: 32px;\n",
              "      padding: 0 0 0 0;\n",
              "      width: 32px;\n",
              "    }\n",
              "\n",
              "    .colab-df-convert:hover {\n",
              "      background-color: #E2EBFA;\n",
              "      box-shadow: 0px 1px 2px rgba(60, 64, 67, 0.3), 0px 1px 3px 1px rgba(60, 64, 67, 0.15);\n",
              "      fill: #174EA6;\n",
              "    }\n",
              "\n",
              "    [theme=dark] .colab-df-convert {\n",
              "      background-color: #3B4455;\n",
              "      fill: #D2E3FC;\n",
              "    }\n",
              "\n",
              "    [theme=dark] .colab-df-convert:hover {\n",
              "      background-color: #434B5C;\n",
              "      box-shadow: 0px 1px 3px 1px rgba(0, 0, 0, 0.15);\n",
              "      filter: drop-shadow(0px 1px 2px rgba(0, 0, 0, 0.3));\n",
              "      fill: #FFFFFF;\n",
              "    }\n",
              "  </style>\n",
              "\n",
              "      <script>\n",
              "        const buttonEl =\n",
              "          document.querySelector('#df-49034aa9-42dd-4de8-b717-078cfbac7451 button.colab-df-convert');\n",
              "        buttonEl.style.display =\n",
              "          google.colab.kernel.accessAllowed ? 'block' : 'none';\n",
              "\n",
              "        async function convertToInteractive(key) {\n",
              "          const element = document.querySelector('#df-49034aa9-42dd-4de8-b717-078cfbac7451');\n",
              "          const dataTable =\n",
              "            await google.colab.kernel.invokeFunction('convertToInteractive',\n",
              "                                                     [key], {});\n",
              "          if (!dataTable) return;\n",
              "\n",
              "          const docLinkHtml = 'Like what you see? Visit the ' +\n",
              "            '<a target=\"_blank\" href=https://colab.research.google.com/notebooks/data_table.ipynb>data table notebook</a>'\n",
              "            + ' to learn more about interactive tables.';\n",
              "          element.innerHTML = '';\n",
              "          dataTable['output_type'] = 'display_data';\n",
              "          await google.colab.output.renderOutput(dataTable, element);\n",
              "          const docLink = document.createElement('div');\n",
              "          docLink.innerHTML = docLinkHtml;\n",
              "          element.appendChild(docLink);\n",
              "        }\n",
              "      </script>\n",
              "    </div>\n",
              "  </div>\n",
              "  "
            ]
          },
          "metadata": {},
          "execution_count": 15
        }
      ]
    },
    {
      "cell_type": "markdown",
      "source": [
        "O método **describe(...)** permite avaliar os valores máximos e mínimos das variáveis numéricas. Da tabela acima, apenas as variáveis *pressão* e *colesterol* possuem erro de completude, pois elas apresentam o valor mínimo nulo, o qual está fora do intervalo permitido, a figura abaixo também permite avaliar isso. "
      ],
      "metadata": {
        "id": "UadlPZxdGtms"
      }
    },
    {
      "cell_type": "code",
      "source": [
        "fig, axes = plt.subplots(1, 5, figsize=(23, 3), sharey=False) # subdividindo a área gráfica para os posteriores plots.\n",
        "fig.suptitle('Completude dos Dados') # Dando um título para a figura\n",
        "\n",
        "sns.boxplot(ax = axes[0], x=df_doencas_cardiacas[\"idade\"])\n",
        "sns.boxplot(ax = axes[1], x=df_doencas_cardiacas[\"pressao\"])\n",
        "sns.boxplot(ax = axes[2], x=df_doencas_cardiacas[\"colesterol\"])\n",
        "sns.boxplot(ax = axes[3], x=df_doencas_cardiacas.max_freq_cardiaca)\n",
        "sns.boxplot(ax = axes[4], x=df_doencas_cardiacas.depressao_st)"
      ],
      "metadata": {
        "colab": {
          "base_uri": "https://localhost:8080/",
          "height": 201
        },
        "id": "31rjMu7tGuBD",
        "outputId": "d1b14a14-e2fa-4be9-d1b0-b12146e6eb6d"
      },
      "execution_count": 16,
      "outputs": [
        {
          "output_type": "execute_result",
          "data": {
            "text/plain": [
              "<matplotlib.axes._subplots.AxesSubplot at 0x7fb5c1dc22d0>"
            ]
          },
          "metadata": {},
          "execution_count": 16
        },
        {
          "output_type": "display_data",
          "data": {
            "text/plain": [
              "<Figure size 1656x216 with 5 Axes>"
            ],
            "image/png": "[encoded data removed]"
          },
          "metadata": {
            "needs_background": "light"
          }
        }
      ]
    },
    {
      "cell_type": "code",
      "source": [
        "# COMENTÁRIOS SOBRE O CÓDIGO \n",
        "\n",
        "# .subplot(...) faz a divisão da área gráfica que será plotada na figura.\n",
        "# método .subtitle(...) permite passar o título a figura que contém os gráficos.\n",
        "# .boxplot(...) plota um gráfico de posição conforme a variável passada no argumento."
      ],
      "metadata": {
        "id": "UNyZrYbr4Y2f"
      },
      "execution_count": null,
      "outputs": []
    },
    {
      "cell_type": "markdown",
      "source": [
        "### 7) Erros de consistência \n",
        "\n",
        "Na etapa em que foi feita a exploração dos erros de conformidade, foi possível avaliar, antecipadamente, os erros de consistência. Observe que como não foram obtidos valores diferentes para um valor que deveria corresponder ao mesmo significado, então não há erro de consistência.  "
      ],
      "metadata": {
        "id": "9IlC0E2lSn-G"
      }
    },
    {
      "cell_type": "markdown",
      "source": [
        "### 8) Identificando Valores Ausentes\n",
        "\n",
        "Valores ausentes *NA*, os quais não são preenchidos no *data frame* prejudicam os resultados para a análise ou a produção de modelos de machine learning, assim na exploração, deve-se identificar esses valores."
      ],
      "metadata": {
        "id": "ohNe-EN2P6G_"
      }
    },
    {
      "cell_type": "code",
      "source": [
        "df_doencas_cardiacas.isnull().sum() # contabilizando as variáveis que contém valores ausentes."
      ],
      "metadata": {
        "colab": {
          "base_uri": "https://localhost:8080/"
        },
        "id": "KsaO2glLQFn6",
        "outputId": "b0770297-2e4c-4535-9757-2b063daa610c"
      },
      "execution_count": 17,
      "outputs": [
        {
          "output_type": "execute_result",
          "data": {
            "text/plain": [
              "idade                   0\n",
              "sexo                    0\n",
              "tipo_dor_peito          0\n",
              "pressao                 0\n",
              "colesterol              0\n",
              "acucar_no_sangue        0\n",
              "ecg                     0\n",
              "max_freq_cardiaca       0\n",
              "angina_pós_exercicio    0\n",
              "depressao_st            0\n",
              "inclinacao_st           0\n",
              "doenca_cardiaca         0\n",
              "dtype: int64"
            ]
          },
          "metadata": {},
          "execution_count": 17
        }
      ]
    },
    {
      "cell_type": "markdown",
      "source": [
        "A tabela acima mostrou que nenhuma das variáveis possue valor nulo."
      ],
      "metadata": {
        "id": "XF5mMVJ7RegV"
      }
    },
    {
      "cell_type": "code",
      "source": [
        "# COMENTÁRIOS SOBRE O CÓDIGO \n",
        "\n",
        "# O método .isnull(...) avalia se existem nas variáveis valores ausentes.\n",
        "# método .sum(...) permite somar os elementos passados no argumento em forma de lista."
      ],
      "metadata": {
        "id": "eG1eu86oSVIZ"
      },
      "execution_count": null,
      "outputs": []
    },
    {
      "cell_type": "markdown",
      "source": [
        "## Tratando os Dados\n"
      ],
      "metadata": {
        "id": "ozTj2G8qS2YG"
      }
    },
    {
      "cell_type": "markdown",
      "source": [
        "### 1) Tratando a Classe das Variáveis"
      ],
      "metadata": {
        "id": "nDZ_SNedTHX_"
      }
    },
    {
      "cell_type": "markdown",
      "source": [
        "Foi constado que a classe referente a variável *doenca_cardica* e *acucar_no_sangue* encaixasse melhor na classificação de object, assim foi tratado esses valores tornando-os em variáveis categóricas."
      ],
      "metadata": {
        "id": "yE8raVldTJcr"
      }
    },
    {
      "cell_type": "code",
      "source": [
        "df_doencas_cardiacas.acucar_no_sangue = str(df_doencas_cardiacas.acucar_no_sangue) # truncando para a classificação categórica.\n",
        "df_doencas_cardiacas.doenca_cardiaca = str(df_doencas_cardiacas.doenca_cardiaca)  # truncando para a classificação categórica.\n",
        "df_doencas_cardiacas.dtypes # verificando a classe das variáveis."
      ],
      "metadata": {
        "colab": {
          "base_uri": "https://localhost:8080/"
        },
        "id": "LTrr-AIAS6EL",
        "outputId": "539b5c52-d207-4dd4-a081-b892f8ac10cd"
      },
      "execution_count": 18,
      "outputs": [
        {
          "output_type": "execute_result",
          "data": {
            "text/plain": [
              "idade                     int64\n",
              "sexo                     object\n",
              "tipo_dor_peito           object\n",
              "pressao                   int64\n",
              "colesterol                int64\n",
              "acucar_no_sangue         object\n",
              "ecg                      object\n",
              "max_freq_cardiaca         int64\n",
              "angina_pós_exercicio     object\n",
              "depressao_st            float64\n",
              "inclinacao_st            object\n",
              "doenca_cardiaca          object\n",
              "dtype: object"
            ]
          },
          "metadata": {},
          "execution_count": 18
        }
      ]
    },
    {
      "cell_type": "code",
      "source": [
        "# COMENTÁRIOS SOBRE O CÓDIGO \n",
        "\n",
        "# O método .str(...) converte a variável passada no argumento em string, ou seja, tranformando ela em um objeto. \n",
        "# obs: tipos objects correspondem as variáveis categórica"
      ],
      "metadata": {
        "id": "cIlqa0FaWc6a"
      },
      "execution_count": null,
      "outputs": []
    },
    {
      "cell_type": "markdown",
      "source": [
        "### 2) Erros de Completude\n",
        "\n",
        "Apenas as variáveis *pressão* e *colesterol* possuem erro de completude, foi contabilizado o número de valores nulos que correspondem a essas variáveis, onde *pressão* apresentou um único valor, já *colesterol* apresentou 172. A saída do código abaixo mostra esses resultados."
      ],
      "metadata": {
        "id": "xWCcE7ssXbVo"
      }
    },
    {
      "cell_type": "code",
      "source": [
        "var = df_doencas_cardiacas.groupby(df_doencas_cardiacas.pressao).size() # contabilizando os possíveis valores do df\n",
        "print(\"Numero total de valores nulos para pressao = \", np.array(var)[0]) # exibindo o número contabilizado para o valor nulo\n",
        "var = df_doencas_cardiacas.groupby(df_doencas_cardiacas.colesterol).size() # contabilizando os possíveis valores do df\n",
        "print(\"Numero total de valores nulos para colesterol = \", np.array(var)[0]) # exibindo o número contabilizado para o valor nulo"
      ],
      "metadata": {
        "colab": {
          "base_uri": "https://localhost:8080/"
        },
        "id": "E0DubmJzXcS6",
        "outputId": "cb6773d3-165c-4ba8-b452-ba64106070cf"
      },
      "execution_count": 19,
      "outputs": [
        {
          "output_type": "stream",
          "name": "stdout",
          "text": [
            "Numero total de valores nulos para pressao =  1\n",
            "Numero total de valores nulos para colesterol =  172\n"
          ]
        }
      ]
    },
    {
      "cell_type": "markdown",
      "source": [
        "A variável *pressão* contém um único valor nulo, por essa razão, a linha que corresponde a esse valor foi removida. \n",
        "\n",
        "A variável *colesterol* contém um conjunto de dados muito grande de valores nulos, assim foi atribuído a mediana da variável a esses valores.  "
      ],
      "metadata": {
        "id": "ArgiAyYApoON"
      }
    },
    {
      "cell_type": "code",
      "source": [
        "df_remove = df_doencas_cardiacas.loc[(df_doencas_cardiacas['pressao'] == 0)]  # criando um filtro para remover o valor zero\n",
        "df_doencas_cardiacas = df_doencas_cardiacas.drop(df_remove.index) # associando o filtro ao índice que deve ser removido.\n",
        "df_doencas_cardiacas.loc[(df_doencas_cardiacas['colesterol'] == 0)] = sts.median(df_doencas_cardiacas.colesterol)  # atribuindo a mediana as variáveis com valor nulo."
      ],
      "metadata": {
        "id": "v96Bsz2oabm9"
      },
      "execution_count": 20,
      "outputs": []
    },
    {
      "cell_type": "markdown",
      "source": [
        "A tabela abaixo evidencia que não existem mais linhas contendo o valor nulo para a variável *pressao*. "
      ],
      "metadata": {
        "id": "lGAQ49swrRky"
      }
    },
    {
      "cell_type": "code",
      "source": [
        "df_doencas_cardiacas[df_doencas_cardiacas['pressao']== 0] # exibindo que nenhuma linha nula para variável colesterol foi obtida."
      ],
      "metadata": {
        "colab": {
          "base_uri": "https://localhost:8080/",
          "height": 113
        },
        "id": "jZIj0FwHrSFF",
        "outputId": "b38a6cbe-d223-4847-9e5a-b5bb4d5c99f1"
      },
      "execution_count": 21,
      "outputs": [
        {
          "output_type": "execute_result",
          "data": {
            "text/plain": [
              "Empty DataFrame\n",
              "Columns: [idade, sexo, tipo_dor_peito, pressao, colesterol, acucar_no_sangue, ecg, max_freq_cardiaca, angina_pós_exercicio, depressao_st, inclinacao_st, doenca_cardiaca]\n",
              "Index: []"
            ],
            "text/html": [
              "\n",
              "  <div id=\"df-87167c43-0a66-44cd-a86c-33e23438ff79\">\n",
              "    <div class=\"colab-df-container\">\n",
              "      <div>\n",
              "<style scoped>\n",
              "    .dataframe tbody tr th:only-of-type {\n",
              "        vertical-align: middle;\n",
              "    }\n",
              "\n",
              "    .dataframe tbody tr th {\n",
              "        vertical-align: top;\n",
              "    }\n",
              "\n",
              "    .dataframe thead th {\n",
              "        text-align: right;\n",
              "    }\n",
              "</style>\n",
              "<table border=\"1\" class=\"dataframe\">\n",
              "  <thead>\n",
              "    <tr style=\"text-align: right;\">\n",
              "      <th></th>\n",
              "      <th>idade</th>\n",
              "      <th>sexo</th>\n",
              "      <th>tipo_dor_peito</th>\n",
              "      <th>pressao</th>\n",
              "      <th>colesterol</th>\n",
              "      <th>acucar_no_sangue</th>\n",
              "      <th>ecg</th>\n",
              "      <th>max_freq_cardiaca</th>\n",
              "      <th>angina_pós_exercicio</th>\n",
              "      <th>depressao_st</th>\n",
              "      <th>inclinacao_st</th>\n",
              "      <th>doenca_cardiaca</th>\n",
              "    </tr>\n",
              "  </thead>\n",
              "  <tbody>\n",
              "  </tbody>\n",
              "</table>\n",
              "</div>\n",
              "      <button class=\"colab-df-convert\" onclick=\"convertToInteractive('df-87167c43-0a66-44cd-a86c-33e23438ff79')\"\n",
              "              title=\"Convert this dataframe to an interactive table.\"\n",
              "              style=\"display:none;\">\n",
              "        \n",
              "  <svg xmlns=\"http://www.w3.org/2000/svg\" height=\"24px\"viewBox=\"0 0 24 24\"\n",
              "       width=\"24px\">\n",
              "    <path d=\"M0 0h24v24H0V0z\" fill=\"none\"/>\n",
              "    <path d=\"M18.56 5.44l.94 2.06.94-2.06 2.06-.94-2.06-.94-.94-2.06-.94 2.06-2.06.94zm-11 1L8.5 8.5l.94-2.06 2.06-.94-2.06-.94L8.5 2.5l-.94 2.06-2.06.94zm10 10l.94 2.06.94-2.06 2.06-.94-2.06-.94-.94-2.06-.94 2.06-2.06.94z\"/><path d=\"M17.41 7.96l-1.37-1.37c-.4-.4-.92-.59-1.43-.59-.52 0-1.04.2-1.43.59L10.3 9.45l-7.72 7.72c-.78.78-.78 2.05 0 2.83L4 21.41c.39.39.9.59 1.41.59.51 0 1.02-.2 1.41-.59l7.78-7.78 2.81-2.81c.8-.78.8-2.07 0-2.86zM5.41 20L4 18.59l7.72-7.72 1.47 1.35L5.41 20z\"/>\n",
              "  </svg>\n",
              "      </button>\n",
              "      \n",
              "  <style>\n",
              "    .colab-df-container {\n",
              "      display:flex;\n",
              "      flex-wrap:wrap;\n",
              "      gap: 12px;\n",
              "    }\n",
              "\n",
              "    .colab-df-convert {\n",
              "      background-color: #E8F0FE;\n",
              "      border: none;\n",
              "      border-radius: 50%;\n",
              "      cursor: pointer;\n",
              "      display: none;\n",
              "      fill: #1967D2;\n",
              "      height: 32px;\n",
              "      padding: 0 0 0 0;\n",
              "      width: 32px;\n",
              "    }\n",
              "\n",
              "    .colab-df-convert:hover {\n",
              "      background-color: #E2EBFA;\n",
              "      box-shadow: 0px 1px 2px rgba(60, 64, 67, 0.3), 0px 1px 3px 1px rgba(60, 64, 67, 0.15);\n",
              "      fill: #174EA6;\n",
              "    }\n",
              "\n",
              "    [theme=dark] .colab-df-convert {\n",
              "      background-color: #3B4455;\n",
              "      fill: #D2E3FC;\n",
              "    }\n",
              "\n",
              "    [theme=dark] .colab-df-convert:hover {\n",
              "      background-color: #434B5C;\n",
              "      box-shadow: 0px 1px 3px 1px rgba(0, 0, 0, 0.15);\n",
              "      filter: drop-shadow(0px 1px 2px rgba(0, 0, 0, 0.3));\n",
              "      fill: #FFFFFF;\n",
              "    }\n",
              "  </style>\n",
              "\n",
              "      <script>\n",
              "        const buttonEl =\n",
              "          document.querySelector('#df-87167c43-0a66-44cd-a86c-33e23438ff79 button.colab-df-convert');\n",
              "        buttonEl.style.display =\n",
              "          google.colab.kernel.accessAllowed ? 'block' : 'none';\n",
              "\n",
              "        async function convertToInteractive(key) {\n",
              "          const element = document.querySelector('#df-87167c43-0a66-44cd-a86c-33e23438ff79');\n",
              "          const dataTable =\n",
              "            await google.colab.kernel.invokeFunction('convertToInteractive',\n",
              "                                                     [key], {});\n",
              "          if (!dataTable) return;\n",
              "\n",
              "          const docLinkHtml = 'Like what you see? Visit the ' +\n",
              "            '<a target=\"_blank\" href=https://colab.research.google.com/notebooks/data_table.ipynb>data table notebook</a>'\n",
              "            + ' to learn more about interactive tables.';\n",
              "          element.innerHTML = '';\n",
              "          dataTable['output_type'] = 'display_data';\n",
              "          await google.colab.output.renderOutput(dataTable, element);\n",
              "          const docLink = document.createElement('div');\n",
              "          docLink.innerHTML = docLinkHtml;\n",
              "          element.appendChild(docLink);\n",
              "        }\n",
              "      </script>\n",
              "    </div>\n",
              "  </div>\n",
              "  "
            ]
          },
          "metadata": {},
          "execution_count": 21
        }
      ]
    },
    {
      "cell_type": "markdown",
      "source": [
        "A tabela abaixo evidencia que não existem mais linhas contendo o valor nulo para a variável *colesterol*. "
      ],
      "metadata": {
        "id": "xhUIkdLjrC_H"
      }
    },
    {
      "cell_type": "code",
      "source": [
        "df_doencas_cardiacas[df_doencas_cardiacas['colesterol']== 0] # exibindo que nenhuma linha nula para variável colesterol foi obtida."
      ],
      "metadata": {
        "colab": {
          "base_uri": "https://localhost:8080/",
          "height": 113
        },
        "id": "eI4UtxCFeEQb",
        "outputId": "ade698f2-f344-4f77-ce9c-11137118159d"
      },
      "execution_count": 23,
      "outputs": [
        {
          "output_type": "execute_result",
          "data": {
            "text/plain": [
              "Empty DataFrame\n",
              "Columns: [idade, sexo, tipo_dor_peito, pressao, colesterol, acucar_no_sangue, ecg, max_freq_cardiaca, angina_pós_exercicio, depressao_st, inclinacao_st, doenca_cardiaca]\n",
              "Index: []"
            ],
            "text/html": [
              "\n",
              "  <div id=\"df-00505ab8-5202-4114-a0a5-99418365e0ce\">\n",
              "    <div class=\"colab-df-container\">\n",
              "      <div>\n",
              "<style scoped>\n",
              "    .dataframe tbody tr th:only-of-type {\n",
              "        vertical-align: middle;\n",
              "    }\n",
              "\n",
              "    .dataframe tbody tr th {\n",
              "        vertical-align: top;\n",
              "    }\n",
              "\n",
              "    .dataframe thead th {\n",
              "        text-align: right;\n",
              "    }\n",
              "</style>\n",
              "<table border=\"1\" class=\"dataframe\">\n",
              "  <thead>\n",
              "    <tr style=\"text-align: right;\">\n",
              "      <th></th>\n",
              "      <th>idade</th>\n",
              "      <th>sexo</th>\n",
              "      <th>tipo_dor_peito</th>\n",
              "      <th>pressao</th>\n",
              "      <th>colesterol</th>\n",
              "      <th>acucar_no_sangue</th>\n",
              "      <th>ecg</th>\n",
              "      <th>max_freq_cardiaca</th>\n",
              "      <th>angina_pós_exercicio</th>\n",
              "      <th>depressao_st</th>\n",
              "      <th>inclinacao_st</th>\n",
              "      <th>doenca_cardiaca</th>\n",
              "    </tr>\n",
              "  </thead>\n",
              "  <tbody>\n",
              "  </tbody>\n",
              "</table>\n",
              "</div>\n",
              "      <button class=\"colab-df-convert\" onclick=\"convertToInteractive('df-00505ab8-5202-4114-a0a5-99418365e0ce')\"\n",
              "              title=\"Convert this dataframe to an interactive table.\"\n",
              "              style=\"display:none;\">\n",
              "        \n",
              "  <svg xmlns=\"http://www.w3.org/2000/svg\" height=\"24px\"viewBox=\"0 0 24 24\"\n",
              "       width=\"24px\">\n",
              "    <path d=\"M0 0h24v24H0V0z\" fill=\"none\"/>\n",
              "    <path d=\"M18.56 5.44l.94 2.06.94-2.06 2.06-.94-2.06-.94-.94-2.06-.94 2.06-2.06.94zm-11 1L8.5 8.5l.94-2.06 2.06-.94-2.06-.94L8.5 2.5l-.94 2.06-2.06.94zm10 10l.94 2.06.94-2.06 2.06-.94-2.06-.94-.94-2.06-.94 2.06-2.06.94z\"/><path d=\"M17.41 7.96l-1.37-1.37c-.4-.4-.92-.59-1.43-.59-.52 0-1.04.2-1.43.59L10.3 9.45l-7.72 7.72c-.78.78-.78 2.05 0 2.83L4 21.41c.39.39.9.59 1.41.59.51 0 1.02-.2 1.41-.59l7.78-7.78 2.81-2.81c.8-.78.8-2.07 0-2.86zM5.41 20L4 18.59l7.72-7.72 1.47 1.35L5.41 20z\"/>\n",
              "  </svg>\n",
              "      </button>\n",
              "      \n",
              "  <style>\n",
              "    .colab-df-container {\n",
              "      display:flex;\n",
              "      flex-wrap:wrap;\n",
              "      gap: 12px;\n",
              "    }\n",
              "\n",
              "    .colab-df-convert {\n",
              "      background-color: #E8F0FE;\n",
              "      border: none;\n",
              "      border-radius: 50%;\n",
              "      cursor: pointer;\n",
              "      display: none;\n",
              "      fill: #1967D2;\n",
              "      height: 32px;\n",
              "      padding: 0 0 0 0;\n",
              "      width: 32px;\n",
              "    }\n",
              "\n",
              "    .colab-df-convert:hover {\n",
              "      background-color: #E2EBFA;\n",
              "      box-shadow: 0px 1px 2px rgba(60, 64, 67, 0.3), 0px 1px 3px 1px rgba(60, 64, 67, 0.15);\n",
              "      fill: #174EA6;\n",
              "    }\n",
              "\n",
              "    [theme=dark] .colab-df-convert {\n",
              "      background-color: #3B4455;\n",
              "      fill: #D2E3FC;\n",
              "    }\n",
              "\n",
              "    [theme=dark] .colab-df-convert:hover {\n",
              "      background-color: #434B5C;\n",
              "      box-shadow: 0px 1px 3px 1px rgba(0, 0, 0, 0.15);\n",
              "      filter: drop-shadow(0px 1px 2px rgba(0, 0, 0, 0.3));\n",
              "      fill: #FFFFFF;\n",
              "    }\n",
              "  </style>\n",
              "\n",
              "      <script>\n",
              "        const buttonEl =\n",
              "          document.querySelector('#df-00505ab8-5202-4114-a0a5-99418365e0ce button.colab-df-convert');\n",
              "        buttonEl.style.display =\n",
              "          google.colab.kernel.accessAllowed ? 'block' : 'none';\n",
              "\n",
              "        async function convertToInteractive(key) {\n",
              "          const element = document.querySelector('#df-00505ab8-5202-4114-a0a5-99418365e0ce');\n",
              "          const dataTable =\n",
              "            await google.colab.kernel.invokeFunction('convertToInteractive',\n",
              "                                                     [key], {});\n",
              "          if (!dataTable) return;\n",
              "\n",
              "          const docLinkHtml = 'Like what you see? Visit the ' +\n",
              "            '<a target=\"_blank\" href=https://colab.research.google.com/notebooks/data_table.ipynb>data table notebook</a>'\n",
              "            + ' to learn more about interactive tables.';\n",
              "          element.innerHTML = '';\n",
              "          dataTable['output_type'] = 'display_data';\n",
              "          await google.colab.output.renderOutput(dataTable, element);\n",
              "          const docLink = document.createElement('div');\n",
              "          docLink.innerHTML = docLinkHtml;\n",
              "          element.appendChild(docLink);\n",
              "        }\n",
              "      </script>\n",
              "    </div>\n",
              "  </div>\n",
              "  "
            ]
          },
          "metadata": {},
          "execution_count": 23
        }
      ]
    },
    {
      "cell_type": "code",
      "source": [
        "# COMENTÁRIOS SOBRE O CÓDIGO \n",
        "\n",
        "# O atributo .loc[...] permite acessar as linhas do data frame passando um correspondente filtro, esse mesmo atributo re-\n",
        "# torna as linhas do data frame selecionadas conforme a condição do filtro dada. \n",
        "# O método .drop(...) permite remover as linhas indicadas do data frame.  "
      ],
      "metadata": {
        "id": "jjfPqwtlr3Vs"
      },
      "execution_count": null,
      "outputs": []
    },
    {
      "cell_type": "markdown",
      "source": [
        "## Exportação do projeto\n",
        "\n",
        "Feita a exploração e o tratamento dos dados podemos exportar o data frame para fazer a análise estatística ou a criação dos modelos de machine learning.\n"
      ],
      "metadata": {
        "id": "FMwlnQaXumVT"
      }
    },
    {
      "cell_type": "code",
      "source": [
        "df_doencas_cardiacas.to_csv('heart_tratado.csv', sep=';', encoding='utf-8', index = False)"
      ],
      "metadata": {
        "id": "Gd-vQTuOuuwm"
      },
      "execution_count": 24,
      "outputs": []
    },
    {
      "cell_type": "code",
      "source": [
        "# COMENTÁRIOS SOBRE O CÓDIGO\n",
        "\n",
        "# A exportação do data frame será direcionada a mesmo diretório em que inserimos anteriormento \n",
        "# '/content/drive/MyDrive/trabalho/TD_doença_cardiaca.csv'\n",
        "# Para salvar o arquivo de dados utilizamos a função .to_csv(...). \n",
        "# Essa operação é importante pra manter a integridade dos dados explorados e tratados,\n",
        "# a fim de não fazermos modificações indesejáveis na análise."
      ],
      "metadata": {
        "id": "BkbgU_JwvAZf"
      },
      "execution_count": null,
      "outputs": []
    },
    {
      "cell_type": "markdown",
      "source": [
        "## Conclusão\n",
        "\n",
        "Este projeto teve como objetivo fazer a exploração e o tratamento do *data set* que informa os fatores clínicos e laboratoriais para prever doenças cardíacas nos pacientes, os repectivos trabalhos foram compridos:\n",
        "\n",
        "\n",
        "* modificação do nome das variáveis, visando a melhor interpretação sobre o significado das colunas do data set. A variável *Age* foi alterada para *idade*, *Sex* para *sexo*, *ChestPainType* para *tipo_dor_peito*, *RestingBP* para *pressao*, *Cholesterol* para *colesterol*, *FastingBP* *acucar_no_sangue*, *RestingECG* para *ecg*, *MaxHR* para *max_freq_cardiaca*, *ExerciseAngina* para *angina_pós_exercicio*, *Oldpeak* para *depressao_st*, *ST_Slope* para *inclinacao_st* e *HeartDiseas* para *doenca_cardiaca*.\n",
        "\n",
        "* levantamento das variáveis que são categóricas e numéricas. Foi identificado na exploração que apenas as variáveis *idade*, *pressao*, *colesterol*, *max_freq_cardiaca*, *depressao_st*, *acucar_no_sangue* e *doenca_cardiaca* são numéricas o restante são categóricas. No entanto, no tratamento dos dados foi alterado as variáveis *acucar_no_sangue* e *doenca_cardiaca* para o tipo categórica, já que a informação que elas levantam no seu valor se encaixam melhor na classificação categórica.\n",
        "\n",
        "* exploração do erro de duplicidade, nenhuma linha contém informações duplicadas.\n",
        "\n",
        "* exploração do erro de conformidade onde nenhum erro foi identificado, logo também não houve erro de integridade.\n",
        "\n",
        "* exploração do problema de completude e tratamento desse erro para as variáveis *colesterol* e *pressao*, para a primeira variável foram contabilizados 172 valores nulos, já para segunda apenas um. Foi substituído os valores nulos da variável *colesterol* pela moda, já a linha que continha o valor nulo para variável *pressao* foi removida.\n",
        "\n",
        "* exploração do erro de consistência, não foi identificado qualquer problema para as variáveis.\n",
        "\n",
        "* identificação de valores ausentes na exploração dos dados, onde nenhuma variável apresentou esse valor.\n",
        "\n"
      ],
      "metadata": {
        "id": "lxYKYAkOvdGL"
      }
    },
    {
      "cell_type": "markdown",
      "source": [
        "## Referências\n",
        "\n",
        "* A elaboração desse projeto tem como inspiração a seção 4 do curso: [Machine Learning com Python](https://www.udemy.com/course/machine-learning-com-python/)."
      ],
      "metadata": {
        "id": "iHwX80pyvh18"
      }
    }
  ]
}